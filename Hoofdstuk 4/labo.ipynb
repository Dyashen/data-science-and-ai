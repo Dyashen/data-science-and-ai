{
  "cells": [
    {
      "cell_type": "markdown",
      "metadata": {
        "id": "xDBTRYzLSeM_"
      },
      "source": [
        "# Module 4: Labs Bivariate analyse - Twee kwalitatieve variabelen"
      ]
    },
    {
      "cell_type": "code",
      "execution_count": 114,
      "metadata": {
        "id": "j8I-eUfMSeNF"
      },
      "outputs": [],
      "source": [
        "# Importing the necessary packages\n",
        "import numpy as np                                  # \"Scientific computing\"\n",
        "import scipy.stats as stats                         # Statistical tests\n",
        "\n",
        "import pandas as pd                                 # Data Frame\n",
        "from pandas.api.types import CategoricalDtype\n",
        "\n",
        "import matplotlib.pyplot as plt                     # Basic visualisation\n",
        "from statsmodels.graphics.mosaicplot import mosaic  # Mosaic diagram\n",
        "import seaborn as sns                               # Advanced data visualisation"
      ]
    },
    {
      "cell_type": "markdown",
      "metadata": {},
      "source": [
        "# Test for Independence\n",
        "\n",
        "The Chi-square test for independence looks for an association between two categorical variables within the same population. Unlike the goodness of fit test, the test for independence does not compare a single observed variable to a theoretical population, but rather two variables within a sample set to one another.\n",
        "\n",
        "* Null Hypothesis (Ho): There is no association between the two categorical variables in the population of interest.\n",
        "* Alternative Hypothesis (Ha): There is no association between the two categorical variables in the population of interest."
      ]
    },
    {
      "cell_type": "markdown",
      "metadata": {},
      "source": [
        "# Goodness-of-Fit Test\n",
        "\n",
        "The Chi-square goodness of fit test is used to compare a randomly collected sample containing a single, categorical variable to a larger population. This test is most commonly used to compare a random sample to the population from which it was potentially collected.\n",
        "\n",
        "* Null Hypothesis (Ho): The null hypothesis (Ho) is that the observed frequencies are the same (except for chance variation) as the expected frequencies. The collected data is consistent with the population distribution.\n",
        "* Alternative Hypothesis (Ha): The collected data is not consistent with the population distribution."
      ]
    },
    {
      "cell_type": "markdown",
      "metadata": {
        "id": "rBTpvl1A4pa3"
      },
      "source": [
        "## Labo 1 - Influence of background music on purchasing behaviour\n",
        "\n",
        "Market research shows that background music in a supermarket can influence the purchasing behaviour of customers. A study compared three methods: no music, French chansons and Italian hits. In each case, the number of bottles of French, Italian and other wines sold was counted (Ryan, et al., 1998).\n",
        "\n",
        "Maak een kruistabel voor de achtergrond muziek t.o.v. het aankoopgedrag van de klanten. Achterhaal de maginale totalen en bereken de verwachte resultaten. Bereken zowel de Chi² testen alsook de Cramer's V test. Verzorg de dataset van een mooie visualisatie door middel van een staafdiagram die de percentages tussen de types wijn toont, een geclusterde staafdiagram en een gestapelde staafdiagram.\n",
        "\n",
        "Resultaten van de Chi² en Cramer's V:\n",
        "* χ² ≈ 18.279\n",
        "* Cramér's V ≈ 0.194"
      ]
    },
    {
      "cell_type": "code",
      "execution_count": 115,
      "metadata": {
        "id": "3kzHcx9qDWKp"
      },
      "outputs": [],
      "source": [
        "mzw = pd.read_csv('https://raw.githubusercontent.com/HoGentTIN/dsai-en-labs/main/data/MuziekWijn.csv', delimiter=',')"
      ]
    },
    {
      "cell_type": "code",
      "execution_count": 116,
      "metadata": {
        "id": "eONuYlYg_mRY"
      },
      "outputs": [
        {
          "data": {
            "text/html": [
              "<div>\n",
              "<style scoped>\n",
              "    .dataframe tbody tr th:only-of-type {\n",
              "        vertical-align: middle;\n",
              "    }\n",
              "\n",
              "    .dataframe tbody tr th {\n",
              "        vertical-align: top;\n",
              "    }\n",
              "\n",
              "    .dataframe thead th {\n",
              "        text-align: right;\n",
              "    }\n",
              "</style>\n",
              "<table border=\"1\" class=\"dataframe\">\n",
              "  <thead>\n",
              "    <tr style=\"text-align: right;\">\n",
              "      <th></th>\n",
              "      <th>Muziek</th>\n",
              "      <th>Wijn</th>\n",
              "    </tr>\n",
              "  </thead>\n",
              "  <tbody>\n",
              "    <tr>\n",
              "      <th>0</th>\n",
              "      <td>Geen</td>\n",
              "      <td>Franse</td>\n",
              "    </tr>\n",
              "    <tr>\n",
              "      <th>1</th>\n",
              "      <td>Franse</td>\n",
              "      <td>Franse</td>\n",
              "    </tr>\n",
              "    <tr>\n",
              "      <th>2</th>\n",
              "      <td>Franse</td>\n",
              "      <td>Italiaanse</td>\n",
              "    </tr>\n",
              "    <tr>\n",
              "      <th>3</th>\n",
              "      <td>Italiaanse</td>\n",
              "      <td>Andere</td>\n",
              "    </tr>\n",
              "    <tr>\n",
              "      <th>4</th>\n",
              "      <td>Italiaanse</td>\n",
              "      <td>Franse</td>\n",
              "    </tr>\n",
              "  </tbody>\n",
              "</table>\n",
              "</div>"
            ],
            "text/plain": [
              "       Muziek         Wijn\n",
              "0        Geen       Franse\n",
              "1      Franse       Franse\n",
              "2      Franse   Italiaanse\n",
              "3  Italiaanse       Andere\n",
              "4  Italiaanse       Franse"
            ]
          },
          "execution_count": 116,
          "metadata": {},
          "output_type": "execute_result"
        }
      ],
      "source": [
        "mzw.head()"
      ]
    },
    {
      "cell_type": "markdown",
      "metadata": {
        "id": "KB_9tGkhSoVw"
      },
      "source": [
        "Er is een `sneaky` fout bij de kolomnamen. Wijn heeft een spatie te veel."
      ]
    },
    {
      "cell_type": "code",
      "execution_count": 117,
      "metadata": {
        "id": "akNX8Ep5zJz1"
      },
      "outputs": [
        {
          "data": {
            "text/plain": [
              "Index(['Muziek', ' Wijn'], dtype='object')"
            ]
          },
          "execution_count": 117,
          "metadata": {},
          "output_type": "execute_result"
        }
      ],
      "source": [
        "mzw.columns"
      ]
    },
    {
      "cell_type": "markdown",
      "metadata": {
        "id": "OMvmb9OmStI3"
      },
      "source": [
        "Je kan met volgend commando de kolomnaam gaan aanpassen. Geef eerst de oorspronkelijk kolomnaam mee en dan de nieuwe naam. Je kan meerdere kolommen in one-go gaan aanpassen.\n",
        "\n",
        "`df = df.rename(columns={'ab': 'abc'})`\n",
        "\n",
        "`{'Te veranderen kolomnaam': 'Gewenste nieuwe kolomnaam'}`"
      ]
    },
    {
      "cell_type": "code",
      "execution_count": 118,
      "metadata": {
        "id": "0CbcTl0eFkp5"
      },
      "outputs": [
        {
          "data": {
            "text/plain": [
              "Index(['Muziek', 'Wijn'], dtype='object')"
            ]
          },
          "execution_count": 118,
          "metadata": {},
          "output_type": "execute_result"
        }
      ],
      "source": [
        "\n",
        "mzw = mzw.rename(columns={' Wijn': 'Wijn'})\n",
        "mzw.columns # Fixed :D"
      ]
    },
    {
      "cell_type": "markdown",
      "metadata": {
        "id": "Pg9jEJNcTUwA"
      },
      "source": [
        "Hieronder maken we een kruistabel voor de Muziek en Wijn variabelen. Eerst geef je de onafhankelijk veranderlijke mee en als tweede geef je de afhankelijke veranderlijke mee. We hebben hier twee waarden die berekend moeten worden dus `margin=True` mag je weglaten."
      ]
    },
    {
      "cell_type": "code",
      "execution_count": 119,
      "metadata": {
        "id": "0GLZMmuj65_n"
      },
      "outputs": [
        {
          "data": {
            "text/html": [
              "<div>\n",
              "<style scoped>\n",
              "    .dataframe tbody tr th:only-of-type {\n",
              "        vertical-align: middle;\n",
              "    }\n",
              "\n",
              "    .dataframe tbody tr th {\n",
              "        vertical-align: top;\n",
              "    }\n",
              "\n",
              "    .dataframe thead th {\n",
              "        text-align: right;\n",
              "    }\n",
              "</style>\n",
              "<table border=\"1\" class=\"dataframe\">\n",
              "  <thead>\n",
              "    <tr style=\"text-align: right;\">\n",
              "      <th>Wijn</th>\n",
              "      <th>Andere</th>\n",
              "      <th>Franse</th>\n",
              "      <th>Italiaanse</th>\n",
              "    </tr>\n",
              "    <tr>\n",
              "      <th>Muziek</th>\n",
              "      <th></th>\n",
              "      <th></th>\n",
              "      <th></th>\n",
              "    </tr>\n",
              "  </thead>\n",
              "  <tbody>\n",
              "    <tr>\n",
              "      <th>Franse</th>\n",
              "      <td>35</td>\n",
              "      <td>39</td>\n",
              "      <td>1</td>\n",
              "    </tr>\n",
              "    <tr>\n",
              "      <th>Geen</th>\n",
              "      <td>43</td>\n",
              "      <td>30</td>\n",
              "      <td>11</td>\n",
              "    </tr>\n",
              "    <tr>\n",
              "      <th>Italiaanse</th>\n",
              "      <td>35</td>\n",
              "      <td>30</td>\n",
              "      <td>19</td>\n",
              "    </tr>\n",
              "  </tbody>\n",
              "</table>\n",
              "</div>"
            ],
            "text/plain": [
              "Wijn         Andere   Franse   Italiaanse\n",
              "Muziek                                   \n",
              "Franse           35       39            1\n",
              "Geen             43       30           11\n",
              "Italiaanse       35       30           19"
            ]
          },
          "execution_count": 119,
          "metadata": {},
          "output_type": "execute_result"
        }
      ],
      "source": [
        "observed = pd.crosstab(mzw.Muziek, mzw.Wijn)\n",
        "observed"
      ]
    },
    {
      "cell_type": "markdown",
      "metadata": {},
      "source": [
        "`Om de Chi² test uit te voeren hebben wij minstens twee zaken nodig: de verwachte resultaten en de geobserveerde resultaten.`"
      ]
    },
    {
      "cell_type": "markdown",
      "metadata": {
        "id": "zfpOuLfQTYau"
      },
      "source": [
        "Hieronder berekenen we de marginale totalen van de geobserveerde resultaten. Hiervoor heb je de som nodig van de geobserveerde waarden. \n",
        "`axis=1` geeft aan dat we rij per rij gaan bereken. Deze som gaan wij opslaan onder de rijen variabele.\n",
        "Als we axis niet vermelden bij de som wordt dit standaard `axis=0`. Dit zijn de kolommen."
      ]
    },
    {
      "cell_type": "code",
      "execution_count": 120,
      "metadata": {
        "id": "hV-aqduX7sPr"
      },
      "outputs": [
        {
          "name": "stdout",
          "output_type": "stream",
          "text": [
            "Muziek\n",
            "Franse        75\n",
            "Geen          84\n",
            "Italiaanse    84\n",
            "dtype: int64\n",
            "Wijn\n",
            " Andere        113\n",
            " Franse         99\n",
            " Italiaanse     31\n",
            "dtype: int64\n",
            "De som van alle rijen is 243\n"
          ]
        }
      ],
      "source": [
        "rijen = observed.sum(axis=1)\n",
        "kolommen = observed.sum()\n",
        "n = rijen.sum()\n",
        "\n",
        "print(f'{rijen}')\n",
        "print(f'{kolommen}')\n",
        "print(f'De som van alle rijen is {n}')"
      ]
    },
    {
      "cell_type": "markdown",
      "metadata": {
        "id": "-ki0QFC3Td39"
      },
      "source": [
        "Hieronder berekenen wij de verwachte resultaten. "
      ]
    },
    {
      "cell_type": "code",
      "execution_count": 121,
      "metadata": {
        "id": "eD7W_TGr8TZq"
      },
      "outputs": [
        {
          "name": "stdout",
          "output_type": "stream",
          "text": [
            "[75. 84. 84.]\n",
            "[113.  99.  31.]\n",
            "Observaties: 243.0\n"
          ]
        }
      ],
      "source": [
        "result = np.outer(rijen, kolommen) / n\n",
        "result_rij = np.sum(result, axis=1)\n",
        "result_kolom = np.sum(result, axis=0)\n",
        "\n",
        "print(result_rij)\n",
        "print(result_kolom)\n",
        "print(f'Observaties: {result_kolom.sum()}')"
      ]
    },
    {
      "cell_type": "markdown",
      "metadata": {
        "id": "i7X4Oo8bThdh"
      },
      "source": [
        "We hebben twee meeteenheden om twee kwalitatieve waarden met elkaar te vergelijken. Hieronder berekenen we `Chi²`.\n",
        "\n",
        "We kunnen Chi² interpreteren als een waarde die aantoont hoe groot het verschil is tussen de verhoudingen in beide kolommen. Chi² heeft een nulwaarde als er géén verschil is tussen de verhoudingen in de kolommen van een kruistabel. Met andere woorden als er geen samenhang tussen de variabelen is.\n",
        "\n",
        "`Hoe groter de waarde, hoe groter de onderlinge verschillen tussen de kolommen en hoe groter dus ook de samenhang.`"
      ]
    },
    {
      "cell_type": "code",
      "execution_count": 122,
      "metadata": {
        "id": "mRjMVZ5g8cW6"
      },
      "outputs": [
        {
          "data": {
            "text/html": [
              "<div>\n",
              "<style scoped>\n",
              "    .dataframe tbody tr th:only-of-type {\n",
              "        vertical-align: middle;\n",
              "    }\n",
              "\n",
              "    .dataframe tbody tr th {\n",
              "        vertical-align: top;\n",
              "    }\n",
              "\n",
              "    .dataframe thead th {\n",
              "        text-align: right;\n",
              "    }\n",
              "</style>\n",
              "<table border=\"1\" class=\"dataframe\">\n",
              "  <thead>\n",
              "    <tr style=\"text-align: right;\">\n",
              "      <th>Wijn</th>\n",
              "      <th>Andere</th>\n",
              "      <th>Franse</th>\n",
              "      <th>Italiaanse</th>\n",
              "    </tr>\n",
              "    <tr>\n",
              "      <th>Muziek</th>\n",
              "      <th></th>\n",
              "      <th></th>\n",
              "      <th></th>\n",
              "    </tr>\n",
              "  </thead>\n",
              "  <tbody>\n",
              "    <tr>\n",
              "      <th>Franse</th>\n",
              "      <td>0.000437</td>\n",
              "      <td>2.333737</td>\n",
              "      <td>7.672417</td>\n",
              "    </tr>\n",
              "    <tr>\n",
              "      <th>Geen</th>\n",
              "      <td>0.397063</td>\n",
              "      <td>0.520924</td>\n",
              "      <td>0.007524</td>\n",
              "    </tr>\n",
              "    <tr>\n",
              "      <th>Italiaanse</th>\n",
              "      <td>0.422348</td>\n",
              "      <td>0.520924</td>\n",
              "      <td>6.403837</td>\n",
              "    </tr>\n",
              "  </tbody>\n",
              "</table>\n",
              "</div>"
            ],
            "text/plain": [
              "Wijn          Andere    Franse   Italiaanse\n",
              "Muziek                                     \n",
              "Franse      0.000437  2.333737     7.672417\n",
              "Geen        0.397063  0.520924     0.007524\n",
              "Italiaanse  0.422348  0.520924     6.403837"
            ]
          },
          "execution_count": 122,
          "metadata": {},
          "output_type": "execute_result"
        }
      ],
      "source": [
        "diffs = (result - observed)**2 / result\n",
        "diffs"
      ]
    },
    {
      "cell_type": "code",
      "execution_count": 123,
      "metadata": {
        "id": "Medrwp9fKTMD"
      },
      "outputs": [
        {
          "name": "stdout",
          "output_type": "stream",
          "text": [
            "X² 18.279\n"
          ]
        }
      ],
      "source": [
        "chi_sq = diffs.values.sum()\n",
        "print('X² %.3f' %chi_sq)"
      ]
    },
    {
      "cell_type": "markdown",
      "metadata": {
        "id": "uAI4zJqMTpA9"
      },
      "source": [
        "Hieronder berekenen we Cramer's V."
      ]
    },
    {
      "cell_type": "code",
      "execution_count": 124,
      "metadata": {
        "id": "VRbMvzZpKfv6"
      },
      "outputs": [
        {
          "data": {
            "text/plain": [
              "0.19393696480652944"
            ]
          },
          "execution_count": 124,
          "metadata": {},
          "output_type": "execute_result"
        }
      ],
      "source": [
        "dof = min(observed.shape) - 1\n",
        "cramers_v = np.sqrt(chi_sq / (dof * n))\n",
        "cramers_v\n"
      ]
    },
    {
      "cell_type": "markdown",
      "metadata": {
        "id": "mLF6U8Na8bAy"
      },
      "source": [
        "Hieronder maken we een staafdiagram met alle rijen waar geen muziek aan het spelen was. We vragen eerst de waarden op als percentage en we delen ieder aantal door de totale som. De totale som bereken je met `np.sum(Series)`.\n",
        "De `X-as` stelt de verschillende waarden voor. Op de `Y-as` wordt het percentage gebruikt."
      ]
    },
    {
      "cell_type": "code",
      "execution_count": 125,
      "metadata": {
        "id": "iAS7WenFGDYL"
      },
      "outputs": [
        {
          "data": {
            "text/plain": [
              "<AxesSubplot:xlabel='Wijn', ylabel='Geen'>"
            ]
          },
          "execution_count": 125,
          "metadata": {},
          "output_type": "execute_result"
        },
        {
          "data": {
            "image/png": "[encoded data removed]",
            "text/plain": [
              "<Figure size 432x288 with 1 Axes>"
            ]
          },
          "metadata": {
            "needs_background": "light"
          },
          "output_type": "display_data"
        }
      ],
      "source": [
        "# Vraag alle rijen op waar geen muziek aan het spelen was.\n",
        "noMusic = observed.loc['Geen']\n",
        "\n",
        "# Vraag de waarden op in percentage. Deel ieder aantal door de totale som.\n",
        "# Totale som is np.sum(Series)\n",
        "noMusicPerc = observed.loc['Geen'] / np.sum(observed.loc['Geen'])\n",
        "\n",
        "# De X-as stelt de verschillende waarden voor.\n",
        "# Op de Y-as wordt het percentage gebruikt.\n",
        "sns.barplot(x=noMusic.index, y=noMusicPerc)"
      ]
    },
    {
      "cell_type": "markdown",
      "metadata": {},
      "source": [
        "Hieronder gaan we een staafdiagram tonen met alle soorten muziek. De wijnen gaan we meegeven onder de `hue` parameter. Dit is een geclusterde bar chart."
      ]
    },
    {
      "cell_type": "code",
      "execution_count": 126,
      "metadata": {
        "id": "lDTbwFJbTwj7"
      },
      "outputs": [
        {
          "data": {
            "text/plain": [
              "<seaborn.axisgrid.FacetGrid at 0x263cb3bb670>"
            ]
          },
          "execution_count": 126,
          "metadata": {},
          "output_type": "execute_result"
        },
        {
          "data": {
            "image/png": "[encoded data removed]",
            "text/plain": [
              "<Figure size 447.75x360 with 1 Axes>"
            ]
          },
          "metadata": {
            "needs_background": "light"
          },
          "output_type": "display_data"
        }
      ],
      "source": [
        "sns.catplot(data=mzw, x=\"Muziek\", hue=\"Wijn\", kind=\"count\")"
      ]
    },
    {
      "cell_type": "markdown",
      "metadata": {
        "id": "jsx1aCsVmw73"
      },
      "source": [
        "Hieronder gaan we een gestapelde staafdiagram maken. We kunnen stapelen met behulp van het `stacked` attribuut. Dit moeten we simpelweg op True plaatsen. Als je dit niet wilt kan je het op False laten staan. Bij False zullen de staven naast elkaar staan."
      ]
    },
    {
      "cell_type": "code",
      "execution_count": 127,
      "metadata": {
        "id": "ygCr7u5FmvpZ"
      },
      "outputs": [
        {
          "data": {
            "text/plain": [
              "<AxesSubplot:xlabel='Muziek'>"
            ]
          },
          "execution_count": 127,
          "metadata": {},
          "output_type": "execute_result"
        },
        {
          "data": {
            "image/png": "[encoded data removed]",
            "text/plain": [
              "<Figure size 432x288 with 1 Axes>"
            ]
          },
          "metadata": {
            "needs_background": "light"
          },
          "output_type": "display_data"
        }
      ],
      "source": [
        "observed.plot(kind='bar', stacked=True)"
      ]
    },
    {
      "cell_type": "markdown",
      "metadata": {
        "id": "0JrAljj350Yf"
      },
      "source": [
        "## Labo 2 - Survey\n",
        "\n",
        "Eerst maken we een frequentietabel voor de twee variabelen. De onafhankelijke variabelen komen eerst. Vervolgens gaan we de relatie tussen de twee variabelen gaan visualiseren. Om het verband tussen de twee variabelen te testen gaan we een Chi² test gaan uitvoeren met daarbij ook het bereken van de $g$ en $p$ waarden. Wij werken met een significantieniveau van `0.05`.\n",
        "\n",
        "We bekijken of de nulhypothese aanvaard of verworpen wordt. We geven een antwoord op de vraag of de twee variabelen een verband tonen. Als laatst berekenen we Cramer's V.\n",
        "\n",
        "\n",
        "De volgende variabelen moeten bekeken worden:\n",
        "\n",
        "| Onafhankelijke variabele          | Afhankelijke variabele                        |\n",
        "|:------------------------------ |:-------------------------------------------|\n",
        "| `Exer`   | `Smoke`                                    |\n",
        "| `Sex`                  | `Smoke`                                    |\n",
        "| `W.Hnd`        | `Fold` |\n",
        "| `Sex`                          | `W.Hnd`                                    |\n",
        "\n",
        "Results of the main calculations (rounded up to 3 decimal places):\n",
        "\n",
        "- `Exer/Smoke`: χ² ≈ 5.489, g ≈ 12.592, p ≈ 0.483\n",
        "- `W.Hnd/Fold`: χ² ≈ 1.581, g ≈ 5.992, p ≈ 0.454\n",
        "- `Sex/Smoke`: χ² ≈ 3.554, g ≈ 7.815, p ≈ 0.314\n",
        "- `Sex/W.Hnd`: χ² ≈ 0.236, g ≈ 3.842, p ≈ 0.627"
      ]
    },
    {
      "cell_type": "markdown",
      "metadata": {
        "id": "xLnXDNr2ULo_"
      },
      "source": [
        "Eerst lezen we de gehele dataset in."
      ]
    },
    {
      "cell_type": "code",
      "execution_count": 128,
      "metadata": {
        "id": "PImy42Ev_nfl"
      },
      "outputs": [
        {
          "data": {
            "text/html": [
              "<div>\n",
              "<style scoped>\n",
              "    .dataframe tbody tr th:only-of-type {\n",
              "        vertical-align: middle;\n",
              "    }\n",
              "\n",
              "    .dataframe tbody tr th {\n",
              "        vertical-align: top;\n",
              "    }\n",
              "\n",
              "    .dataframe thead th {\n",
              "        text-align: right;\n",
              "    }\n",
              "</style>\n",
              "<table border=\"1\" class=\"dataframe\">\n",
              "  <thead>\n",
              "    <tr style=\"text-align: right;\">\n",
              "      <th></th>\n",
              "      <th>Unnamed: 0</th>\n",
              "      <th>Sex</th>\n",
              "      <th>Wr.Hnd</th>\n",
              "      <th>NW.Hnd</th>\n",
              "      <th>W.Hnd</th>\n",
              "      <th>Fold</th>\n",
              "      <th>Pulse</th>\n",
              "      <th>Clap</th>\n",
              "      <th>Exer</th>\n",
              "      <th>Smoke</th>\n",
              "      <th>Height</th>\n",
              "      <th>M.I</th>\n",
              "      <th>Age</th>\n",
              "    </tr>\n",
              "  </thead>\n",
              "  <tbody>\n",
              "    <tr>\n",
              "      <th>0</th>\n",
              "      <td>1</td>\n",
              "      <td>Female</td>\n",
              "      <td>18.5</td>\n",
              "      <td>18.0</td>\n",
              "      <td>Right</td>\n",
              "      <td>R on L</td>\n",
              "      <td>92.0</td>\n",
              "      <td>Left</td>\n",
              "      <td>Some</td>\n",
              "      <td>Never</td>\n",
              "      <td>173.0</td>\n",
              "      <td>Metric</td>\n",
              "      <td>18.250</td>\n",
              "    </tr>\n",
              "    <tr>\n",
              "      <th>1</th>\n",
              "      <td>2</td>\n",
              "      <td>Male</td>\n",
              "      <td>19.5</td>\n",
              "      <td>20.5</td>\n",
              "      <td>Left</td>\n",
              "      <td>R on L</td>\n",
              "      <td>104.0</td>\n",
              "      <td>Left</td>\n",
              "      <td>None</td>\n",
              "      <td>Regul</td>\n",
              "      <td>177.8</td>\n",
              "      <td>Imperial</td>\n",
              "      <td>17.583</td>\n",
              "    </tr>\n",
              "    <tr>\n",
              "      <th>2</th>\n",
              "      <td>3</td>\n",
              "      <td>Male</td>\n",
              "      <td>18.0</td>\n",
              "      <td>13.3</td>\n",
              "      <td>Right</td>\n",
              "      <td>L on R</td>\n",
              "      <td>87.0</td>\n",
              "      <td>Neither</td>\n",
              "      <td>None</td>\n",
              "      <td>Occas</td>\n",
              "      <td>NaN</td>\n",
              "      <td>NaN</td>\n",
              "      <td>16.917</td>\n",
              "    </tr>\n",
              "    <tr>\n",
              "      <th>3</th>\n",
              "      <td>4</td>\n",
              "      <td>Male</td>\n",
              "      <td>18.8</td>\n",
              "      <td>18.9</td>\n",
              "      <td>Right</td>\n",
              "      <td>R on L</td>\n",
              "      <td>NaN</td>\n",
              "      <td>Neither</td>\n",
              "      <td>None</td>\n",
              "      <td>Never</td>\n",
              "      <td>160.0</td>\n",
              "      <td>Metric</td>\n",
              "      <td>20.333</td>\n",
              "    </tr>\n",
              "    <tr>\n",
              "      <th>4</th>\n",
              "      <td>5</td>\n",
              "      <td>Male</td>\n",
              "      <td>20.0</td>\n",
              "      <td>20.0</td>\n",
              "      <td>Right</td>\n",
              "      <td>Neither</td>\n",
              "      <td>35.0</td>\n",
              "      <td>Right</td>\n",
              "      <td>Some</td>\n",
              "      <td>Never</td>\n",
              "      <td>165.0</td>\n",
              "      <td>Metric</td>\n",
              "      <td>23.667</td>\n",
              "    </tr>\n",
              "    <tr>\n",
              "      <th>...</th>\n",
              "      <td>...</td>\n",
              "      <td>...</td>\n",
              "      <td>...</td>\n",
              "      <td>...</td>\n",
              "      <td>...</td>\n",
              "      <td>...</td>\n",
              "      <td>...</td>\n",
              "      <td>...</td>\n",
              "      <td>...</td>\n",
              "      <td>...</td>\n",
              "      <td>...</td>\n",
              "      <td>...</td>\n",
              "      <td>...</td>\n",
              "    </tr>\n",
              "    <tr>\n",
              "      <th>232</th>\n",
              "      <td>233</td>\n",
              "      <td>Female</td>\n",
              "      <td>18.0</td>\n",
              "      <td>18.0</td>\n",
              "      <td>Right</td>\n",
              "      <td>L on R</td>\n",
              "      <td>85.0</td>\n",
              "      <td>Right</td>\n",
              "      <td>Some</td>\n",
              "      <td>Never</td>\n",
              "      <td>165.1</td>\n",
              "      <td>Imperial</td>\n",
              "      <td>17.667</td>\n",
              "    </tr>\n",
              "    <tr>\n",
              "      <th>233</th>\n",
              "      <td>234</td>\n",
              "      <td>Female</td>\n",
              "      <td>18.5</td>\n",
              "      <td>18.0</td>\n",
              "      <td>Right</td>\n",
              "      <td>L on R</td>\n",
              "      <td>88.0</td>\n",
              "      <td>Right</td>\n",
              "      <td>Some</td>\n",
              "      <td>Never</td>\n",
              "      <td>160.0</td>\n",
              "      <td>Metric</td>\n",
              "      <td>16.917</td>\n",
              "    </tr>\n",
              "    <tr>\n",
              "      <th>234</th>\n",
              "      <td>235</td>\n",
              "      <td>Female</td>\n",
              "      <td>17.5</td>\n",
              "      <td>16.5</td>\n",
              "      <td>Right</td>\n",
              "      <td>R on L</td>\n",
              "      <td>NaN</td>\n",
              "      <td>Right</td>\n",
              "      <td>Some</td>\n",
              "      <td>Never</td>\n",
              "      <td>170.0</td>\n",
              "      <td>Metric</td>\n",
              "      <td>18.583</td>\n",
              "    </tr>\n",
              "    <tr>\n",
              "      <th>235</th>\n",
              "      <td>236</td>\n",
              "      <td>Male</td>\n",
              "      <td>21.0</td>\n",
              "      <td>21.5</td>\n",
              "      <td>Right</td>\n",
              "      <td>R on L</td>\n",
              "      <td>90.0</td>\n",
              "      <td>Right</td>\n",
              "      <td>Some</td>\n",
              "      <td>Never</td>\n",
              "      <td>183.0</td>\n",
              "      <td>Metric</td>\n",
              "      <td>17.167</td>\n",
              "    </tr>\n",
              "    <tr>\n",
              "      <th>236</th>\n",
              "      <td>237</td>\n",
              "      <td>Female</td>\n",
              "      <td>17.6</td>\n",
              "      <td>17.3</td>\n",
              "      <td>Right</td>\n",
              "      <td>R on L</td>\n",
              "      <td>85.0</td>\n",
              "      <td>Right</td>\n",
              "      <td>Freq</td>\n",
              "      <td>Never</td>\n",
              "      <td>168.5</td>\n",
              "      <td>Metric</td>\n",
              "      <td>17.750</td>\n",
              "    </tr>\n",
              "  </tbody>\n",
              "</table>\n",
              "<p>237 rows × 13 columns</p>\n",
              "</div>"
            ],
            "text/plain": [
              "     Unnamed: 0     Sex  Wr.Hnd  NW.Hnd  W.Hnd     Fold  Pulse     Clap  Exer  \\\n",
              "0             1  Female    18.5    18.0  Right   R on L   92.0     Left  Some   \n",
              "1             2    Male    19.5    20.5   Left   R on L  104.0     Left  None   \n",
              "2             3    Male    18.0    13.3  Right   L on R   87.0  Neither  None   \n",
              "3             4    Male    18.8    18.9  Right   R on L    NaN  Neither  None   \n",
              "4             5    Male    20.0    20.0  Right  Neither   35.0    Right  Some   \n",
              "..          ...     ...     ...     ...    ...      ...    ...      ...   ...   \n",
              "232         233  Female    18.0    18.0  Right   L on R   85.0    Right  Some   \n",
              "233         234  Female    18.5    18.0  Right   L on R   88.0    Right  Some   \n",
              "234         235  Female    17.5    16.5  Right   R on L    NaN    Right  Some   \n",
              "235         236    Male    21.0    21.5  Right   R on L   90.0    Right  Some   \n",
              "236         237  Female    17.6    17.3  Right   R on L   85.0    Right  Freq   \n",
              "\n",
              "     Smoke  Height       M.I     Age  \n",
              "0    Never   173.0    Metric  18.250  \n",
              "1    Regul   177.8  Imperial  17.583  \n",
              "2    Occas     NaN       NaN  16.917  \n",
              "3    Never   160.0    Metric  20.333  \n",
              "4    Never   165.0    Metric  23.667  \n",
              "..     ...     ...       ...     ...  \n",
              "232  Never   165.1  Imperial  17.667  \n",
              "233  Never   160.0    Metric  16.917  \n",
              "234  Never   170.0    Metric  18.583  \n",
              "235  Never   183.0    Metric  17.167  \n",
              "236  Never   168.5    Metric  17.750  \n",
              "\n",
              "[237 rows x 13 columns]"
            ]
          },
          "execution_count": 128,
          "metadata": {},
          "output_type": "execute_result"
        }
      ],
      "source": [
        "data = pd.read_csv(\"https://raw.githubusercontent.com/HoGentTIN/dsai-en-labs/main/data/survey.csv\")\n",
        "data"
      ]
    },
    {
      "cell_type": "markdown",
      "metadata": {
        "id": "ClPiYvicUTfi"
      },
      "source": [
        "Wat zijn de verschillende waarden tussen Exer en Smoke? Verander beide variabelen naar ordinale variabelen met een specifieke volgorde. Hieronder passen we de kolommen aan naar variabelen van het categorische datatype. We geven verschillende categoriëen mee. De kolommen slaan we ook opnieuw op."
      ]
    },
    {
      "cell_type": "code",
      "execution_count": 129,
      "metadata": {
        "id": "XUspvasv-rn6"
      },
      "outputs": [],
      "source": [
        "data['Exer'] = data['Exer'].astype(CategoricalDtype(categories=['None', 'Some', 'Freq']))\n",
        "data['Smoke'] = data['Smoke'].astype(CategoricalDtype(categories=['Never', 'Occas', 'Regul', 'Heavy']))"
      ]
    },
    {
      "cell_type": "markdown",
      "metadata": {
        "id": "AHYMorUvUrpF"
      },
      "source": [
        "De correcte resultaten afgerond op drie plaatsen na de komma.\n",
        "\n",
        "- `Exer/Smoke`: χ² ≈ 5.489, g ≈ 12.592, p ≈ 0.483\n",
        "- `W.Hnd/Fold`: χ² ≈ 1.581, g ≈ 5.992, p ≈ 0.454\n",
        "- `Sex/Smoke`: χ² ≈ 3.554, g ≈ 7.815, p ≈ 0.314\n",
        "- `Sex/W.Hnd`: χ² ≈ 0.236, g ≈ 3.842, p ≈ 0.627"
      ]
    },
    {
      "cell_type": "markdown",
      "metadata": {
        "id": "-ymGHckoe-KW"
      },
      "source": [
        "Exer/Smoke: χ² ≈ 5.489, g ≈ 12.592, p ≈ 0.483"
      ]
    },
    {
      "cell_type": "code",
      "execution_count": 130,
      "metadata": {
        "id": "q9YgYP1c-XMM"
      },
      "outputs": [
        {
          "name": "stdout",
          "output_type": "stream",
          "text": [
            "Chi-squared:         5.4885\n",
            "G-waarde:            12.5916\n",
            "P-waarde:            0.4828\n"
          ]
        }
      ],
      "source": [
        "alpha = 0.05\n",
        "\n",
        "observerd = pd.crosstab(data['Exer'], data['Smoke'], margins=False)\n",
        "\n",
        "# vier waarden ophalen uit de contingency methode\n",
        "chi2, p, dof, expected = stats.chi2_contingency(observerd)\n",
        "\n",
        "# g-waarde berekenen\n",
        "g = stats.chi2.isf(alpha, dof)\n",
        "\n",
        "print(\"Chi-squared:         %.4f\" % chi2)\n",
        "print(\"G-waarde:            %.4f\" % g)\n",
        "print(\"P-waarde:            %.4f\" % p)"
      ]
    },
    {
      "cell_type": "code",
      "execution_count": 131,
      "metadata": {
        "id": "HtyVSJPx4JMk"
      },
      "outputs": [
        {
          "data": {
            "text/plain": [
              "<matplotlib.lines.Line2D at 0x263cb596fd0>"
            ]
          },
          "execution_count": 131,
          "metadata": {},
          "output_type": "execute_result"
        },
        {
          "data": {
            "image/png": "[encoded data removed]",
            "text/plain": [
              "<Figure size 432x288 with 1 Axes>"
            ]
          },
          "metadata": {
            "needs_background": "light"
          },
          "output_type": "display_data"
        }
      ],
      "source": [
        "# Plot of the case:\n",
        "# x-values:\n",
        "x = np.linspace(0, 15, num=100)\n",
        "# probability density of the chi-squared distribution with 4 degrees of freedom\n",
        "y = stats.chi2.pdf(x, df=dof)\n",
        "# the number q for which the right tail probability is exactly 5%:\n",
        "q = stats.chi2.isf(alpha, df=dof)\n",
        "\n",
        "fig, tplot = plt.subplots(1, 1)\n",
        "tplot.plot(x, y)                     # probability density\n",
        "tplot.fill_between(x, y, where=x>=q, # critical area\n",
        "    color='lightblue')\n",
        "tplot.axvline(q)                     # critical value\n",
        "tplot.axvline(chi2, color='orange')  # chi-squared\n"
      ]
    },
    {
      "cell_type": "markdown",
      "metadata": {
        "id": "qXTX5yIAfDey"
      },
      "source": [
        "W.Hnd/Fold: χ² ≈ 1.581, g ≈ 5.992, p ≈ 0.454"
      ]
    },
    {
      "cell_type": "code",
      "execution_count": 132,
      "metadata": {
        "id": "m8bhQxol-dw9"
      },
      "outputs": [
        {
          "name": "stdout",
          "output_type": "stream",
          "text": [
            "Chi-squared:         1.5814\n",
            "G-waarde:            12.5916\n",
            "P-waarde:            0.4535\n"
          ]
        }
      ],
      "source": [
        "alpha = 0.05\n",
        "observerd = pd.crosstab(data['W.Hnd'], data['Fold'], margins=False)\n",
        "chi2, p, dpf, expected = stats.chi2_contingency(observerd)\n",
        "g = stats.chi2.isf(alpha, dof)\n",
        "\n",
        "print(\"Chi-squared:         %.4f\" % chi2)\n",
        "print(\"G-waarde:            %.4f\" % g)\n",
        "print(\"P-waarde:            %.4f\" % p)"
      ]
    },
    {
      "cell_type": "code",
      "execution_count": 133,
      "metadata": {},
      "outputs": [
        {
          "data": {
            "text/plain": [
              "<matplotlib.lines.Line2D at 0x263cb63c8b0>"
            ]
          },
          "execution_count": 133,
          "metadata": {},
          "output_type": "execute_result"
        },
        {
          "data": {
            "image/png": "[encoded data removed]",
            "text/plain": [
              "<Figure size 432x288 with 1 Axes>"
            ]
          },
          "metadata": {
            "needs_background": "light"
          },
          "output_type": "display_data"
        }
      ],
      "source": [
        "# Plot of the case:\n",
        "# x-values:\n",
        "x = np.linspace(0, 15, num=100)\n",
        "# probability density of the chi-squared distribution with 4 degrees of freedom\n",
        "y = stats.chi2.pdf(x, df=dof)\n",
        "# the number q for which the right tail probability is exactly 5%:\n",
        "q = stats.chi2.isf(alpha, df=dof)\n",
        "\n",
        "fig, tplot = plt.subplots(1, 1)\n",
        "tplot.plot(x, y)                     # probability density\n",
        "tplot.fill_between(x, y, where=x>=q, # critical area\n",
        "    color='lightblue')\n",
        "tplot.axvline(q)                     # critical value\n",
        "tplot.axvline(chi2, color='orange')  # chi-squared"
      ]
    },
    {
      "cell_type": "markdown",
      "metadata": {
        "id": "P_--fDpVfGB7"
      },
      "source": [
        "Sex/Smoke: χ² ≈ 3.554, g ≈ 7.815, p ≈ 0.314"
      ]
    },
    {
      "cell_type": "code",
      "execution_count": 134,
      "metadata": {
        "id": "Y81QYdd4-d51"
      },
      "outputs": [
        {
          "data": {
            "text/plain": [
              "<matplotlib.lines.Line2D at 0x263cb683640>"
            ]
          },
          "execution_count": 134,
          "metadata": {},
          "output_type": "execute_result"
        },
        {
          "data": {
            "image/png": "[encoded data removed]",
            "text/plain": [
              "<Figure size 432x288 with 1 Axes>"
            ]
          },
          "metadata": {
            "needs_background": "light"
          },
          "output_type": "display_data"
        }
      ],
      "source": [
        "# Plot of the case:\n",
        "# x-values:\n",
        "x = np.linspace(0, 15, num=100)\n",
        "# probability density of the chi-squared distribution with 4 degrees of freedom\n",
        "y = stats.chi2.pdf(x, df=dof)\n",
        "# the number q for which the right tail probability is exactly 5%:\n",
        "q = stats.chi2.isf(alpha, df=dof)\n",
        "\n",
        "fig, tplot = plt.subplots(1, 1)\n",
        "tplot.plot(x, y)                     # probability density\n",
        "tplot.fill_between(x, y, where=x>=q, # critical area\n",
        "    color='lightblue')\n",
        "tplot.axvline(q)                     # critical value\n",
        "tplot.axvline(chi2, color='orange')  # chi-squared"
      ]
    },
    {
      "cell_type": "markdown",
      "metadata": {
        "id": "GBza24xKfPJ6"
      },
      "source": [
        "Sex/W.Hnd: χ² ≈ 0.236, g ≈ 3.842, p ≈ 0.627"
      ]
    },
    {
      "cell_type": "code",
      "execution_count": 135,
      "metadata": {
        "id": "nx8e1Rxo-eBE"
      },
      "outputs": [
        {
          "name": "stdout",
          "output_type": "stream",
          "text": [
            "Chi-squared:         0.2356\n",
            "G-waarde:            3.8415\n",
            "P-waarde:            0.6274\n"
          ]
        }
      ],
      "source": [
        "alpha = 0.05\n",
        "observerd = pd.crosstab(data['Sex'], data['W.Hnd'], margins=False)\n",
        "chi2, p, dof, expected = stats.chi2_contingency(observerd)\n",
        "g = stats.chi2.isf(alpha, dof)\n",
        "\n",
        "print(\"Chi-squared:         %.4f\" % chi2)\n",
        "print(\"G-waarde:            %.4f\" % g)\n",
        "print(\"P-waarde:            %.4f\" % p)"
      ]
    },
    {
      "cell_type": "code",
      "execution_count": 136,
      "metadata": {},
      "outputs": [
        {
          "data": {
            "text/plain": [
              "<matplotlib.lines.Line2D at 0x263cb5e4ee0>"
            ]
          },
          "execution_count": 136,
          "metadata": {},
          "output_type": "execute_result"
        },
        {
          "data": {
            "image/png": "[encoded data removed]",
            "text/plain": [
              "<Figure size 432x288 with 1 Axes>"
            ]
          },
          "metadata": {
            "needs_background": "light"
          },
          "output_type": "display_data"
        }
      ],
      "source": [
        "x = np.linspace(0, 15, num=100)\n",
        "y = stats.chi2.pdf(x, df=dof)\n",
        "q = stats.chi2.isf(alpha, df=dof)\n",
        "\n",
        "fig, tplot = plt.subplots(1,1)\n",
        "tplot.plot(x,y)\n",
        "tplot.fill_between(x,y,where=x>=q, color='lightblue')\n",
        "\n",
        "tplot.axvline(q)\n",
        "tplot.axvline(chi2, color='orange')"
      ]
    },
    {
      "cell_type": "markdown",
      "metadata": {
        "id": "eur1Ec708lNw"
      },
      "source": [
        "## Labo 3 - Digimeter\n",
        "\n",
        "Voor deze oefeningen werken we met twee dataframes: `data/leeftijden-digimeter.csv` wat de relatieve voorkomens bevat en `data/leeftijden-bestat-vl.csv` wat de absolute waarden bevat van de verschillende leeftijdscategorieën.\n",
        "\n",
        "1. Maak eerst een samenvatting van alle categorieën zodat je overeenkomende categorieën hebt in Digimeter. Je zal merken dat er in de de ene dataframe veel te veel zijn. Als we dit niet oplossen zullen we een out-of-bounds fout krijgen.\n",
        "\n",
        "2. Voor de goodness-of-fit-test hebben we absolute voorkomens nodig van de geeobserveerde waarden uit het sample.\n",
        "\n",
        "3. Bereken de verwachtte percentages voor de populatie in het geheel.\n",
        "\n",
        "4. Voer de goodness-of-fit test uit op de verdeling van leeftijdscategorieën in de Digimeter sample. Geef aan of de sample representatief is voor de Vlaamse populatie.\n",
        "\n",
        "Volgende resultaten, afgerond op drie cijfers na de komma, zou je moeten uitkomen\n",
        "\n",
        "- χ² ≈ 6.700 (df = 6),\n",
        "- g ≈ 12.592,\n",
        "- p ≈ 0.350"
      ]
    },
    {
      "cell_type": "code",
      "execution_count": 137,
      "metadata": {
        "id": "8yMICTgm_ood"
      },
      "outputs": [],
      "source": [
        "digi = pd.read_csv('https://raw.githubusercontent.com/HoGentTIN/dsai-en-labs/main/data/leeftijden-digimeter.csv')\n",
        "bestat = pd.read_csv('https://raw.githubusercontent.com/HoGentTIN/dsai-en-labs/main/data/leeftijden-bestat-vl.csv')"
      ]
    },
    {
      "cell_type": "markdown",
      "metadata": {
        "id": "q65MAS3idH7g"
      },
      "source": [
        "We zitten met veel te gedetailleerde leeftijdsgroepen in het Bestat dataframe. Dit passen we aan naar groepen die overeenkomen met die uit Digimeter. We `filteren `de eerste drie leeftijdsgroepen uit het dataframe. We `mappen` de gedetailleerde leeftijdsgroepen aan de hand van de leeftijdsgroepen van Digimeter. Dus 20-24 --> 20-29 of 40-44 --> 40-49. \n",
        "\n",
        "Uiteindelijk zijn alle waarden groter dan 64 null-waarden nu omdat ze geen waarde hebben toegekend. Dit passen we aan zodat alle null-waarden automatisch '64+' als waarde krijgen. Dit doen we met `fillna`."
      ]
    },
    {
      "cell_type": "code",
      "execution_count": 138,
      "metadata": {
        "id": "wy1vq1xiFIfs"
      },
      "outputs": [
        {
          "data": {
            "text/html": [
              "<div>\n",
              "<style scoped>\n",
              "    .dataframe tbody tr th:only-of-type {\n",
              "        vertical-align: middle;\n",
              "    }\n",
              "\n",
              "    .dataframe tbody tr th {\n",
              "        vertical-align: top;\n",
              "    }\n",
              "\n",
              "    .dataframe thead th {\n",
              "        text-align: right;\n",
              "    }\n",
              "</style>\n",
              "<table border=\"1\" class=\"dataframe\">\n",
              "  <thead>\n",
              "    <tr style=\"text-align: right;\">\n",
              "      <th></th>\n",
              "      <th>age.group</th>\n",
              "      <th>population</th>\n",
              "      <th>Leeftijdsgroep</th>\n",
              "    </tr>\n",
              "  </thead>\n",
              "  <tbody>\n",
              "    <tr>\n",
              "      <th>3</th>\n",
              "      <td>15-19</td>\n",
              "      <td>366648</td>\n",
              "      <td>15-19</td>\n",
              "    </tr>\n",
              "    <tr>\n",
              "      <th>4</th>\n",
              "      <td>20-24</td>\n",
              "      <td>375469</td>\n",
              "      <td>20-29</td>\n",
              "    </tr>\n",
              "    <tr>\n",
              "      <th>5</th>\n",
              "      <td>25-29</td>\n",
              "      <td>387131</td>\n",
              "      <td>20-29</td>\n",
              "    </tr>\n",
              "    <tr>\n",
              "      <th>6</th>\n",
              "      <td>30-34</td>\n",
              "      <td>401285</td>\n",
              "      <td>30-39</td>\n",
              "    </tr>\n",
              "    <tr>\n",
              "      <th>7</th>\n",
              "      <td>35-39</td>\n",
              "      <td>409587</td>\n",
              "      <td>30-39</td>\n",
              "    </tr>\n",
              "  </tbody>\n",
              "</table>\n",
              "</div>"
            ],
            "text/plain": [
              "  age.group  population Leeftijdsgroep\n",
              "3     15-19      366648          15-19\n",
              "4     20-24      375469          20-29\n",
              "5     25-29      387131          20-29\n",
              "6     30-34      401285          30-39\n",
              "7     35-39      409587          30-39"
            ]
          },
          "execution_count": 138,
          "metadata": {},
          "output_type": "execute_result"
        }
      ],
      "source": [
        "filterAgeGroup = (bestat['age.group'] != '0-5')\n",
        "filterAgeGroup2 = (bestat['age.group'] != '5-9')\n",
        "filterAgeGroup3 = (bestat['age.group'] != '10-14')\n",
        "bestat = bestat[filterAgeGroup & filterAgeGroup2 & filterAgeGroup3]\n",
        "\n",
        "d={'15-19': '15-19', '20-24': '20-29', '25-29': '20-29', '30-34': '30-39', '35-39': '30-39', '40-44': '40-49', '45-49': '40-49','50-54': '50-59', '55-59': '50-59','60-64': '60-64'}\n",
        "bestat['Leeftijdsgroep']=bestat['age.group'].map(d).fillna('64+')\n",
        "bestat.head(5)"
      ]
    },
    {
      "cell_type": "markdown",
      "metadata": {},
      "source": [
        "Nu willen we enkel de totalen kennen op basis van de net gemaakte leeftijdsgroep. Dit passen we aan met behulp van de `groupby` methode."
      ]
    },
    {
      "cell_type": "code",
      "execution_count": 139,
      "metadata": {},
      "outputs": [
        {
          "data": {
            "text/html": [
              "<div>\n",
              "<style scoped>\n",
              "    .dataframe tbody tr th:only-of-type {\n",
              "        vertical-align: middle;\n",
              "    }\n",
              "\n",
              "    .dataframe tbody tr th {\n",
              "        vertical-align: top;\n",
              "    }\n",
              "\n",
              "    .dataframe thead th {\n",
              "        text-align: right;\n",
              "    }\n",
              "</style>\n",
              "<table border=\"1\" class=\"dataframe\">\n",
              "  <thead>\n",
              "    <tr style=\"text-align: right;\">\n",
              "      <th></th>\n",
              "      <th>Leeftijdsgroep</th>\n",
              "      <th>population</th>\n",
              "    </tr>\n",
              "  </thead>\n",
              "  <tbody>\n",
              "    <tr>\n",
              "      <th>0</th>\n",
              "      <td>15-19</td>\n",
              "      <td>366648</td>\n",
              "    </tr>\n",
              "    <tr>\n",
              "      <th>1</th>\n",
              "      <td>20-29</td>\n",
              "      <td>762600</td>\n",
              "    </tr>\n",
              "    <tr>\n",
              "      <th>2</th>\n",
              "      <td>30-39</td>\n",
              "      <td>810872</td>\n",
              "    </tr>\n",
              "    <tr>\n",
              "      <th>3</th>\n",
              "      <td>40-49</td>\n",
              "      <td>952205</td>\n",
              "    </tr>\n",
              "    <tr>\n",
              "      <th>4</th>\n",
              "      <td>50-59</td>\n",
              "      <td>876983</td>\n",
              "    </tr>\n",
              "    <tr>\n",
              "      <th>5</th>\n",
              "      <td>60-64</td>\n",
              "      <td>379301</td>\n",
              "    </tr>\n",
              "    <tr>\n",
              "      <th>6</th>\n",
              "      <td>64+</td>\n",
              "      <td>1153491</td>\n",
              "    </tr>\n",
              "  </tbody>\n",
              "</table>\n",
              "</div>"
            ],
            "text/plain": [
              "  Leeftijdsgroep  population\n",
              "0          15-19      366648\n",
              "1          20-29      762600\n",
              "2          30-39      810872\n",
              "3          40-49      952205\n",
              "4          50-59      876983\n",
              "5          60-64      379301\n",
              "6            64+     1153491"
            ]
          },
          "execution_count": 139,
          "metadata": {},
          "output_type": "execute_result"
        }
      ],
      "source": [
        "bestat = bestat.groupby('Leeftijdsgroep')['population'].sum().reset_index()\n",
        "bestat.head(7)"
      ]
    },
    {
      "cell_type": "markdown",
      "metadata": {},
      "source": [
        "Nu willen we het percentage berekenen. Om het percentage te berekenen moeten we de waarde van een leeftijdsgroep gaan delen door het totaal. We beschikken nog niet over het totaal, maar dit berekenen we door de som te nemen van de populatiekolom. Dit kunnen we doen met `sum()`. Daarna maken we een nieuwe kolom genaamd `percentage_population` met daarin het percentage per leeftijdsgroep."
      ]
    },
    {
      "cell_type": "code",
      "execution_count": 140,
      "metadata": {},
      "outputs": [
        {
          "data": {
            "text/html": [
              "<div>\n",
              "<style scoped>\n",
              "    .dataframe tbody tr th:only-of-type {\n",
              "        vertical-align: middle;\n",
              "    }\n",
              "\n",
              "    .dataframe tbody tr th {\n",
              "        vertical-align: top;\n",
              "    }\n",
              "\n",
              "    .dataframe thead th {\n",
              "        text-align: right;\n",
              "    }\n",
              "</style>\n",
              "<table border=\"1\" class=\"dataframe\">\n",
              "  <thead>\n",
              "    <tr style=\"text-align: right;\">\n",
              "      <th></th>\n",
              "      <th>Leeftijdsgroep</th>\n",
              "      <th>population</th>\n",
              "      <th>percentage_population</th>\n",
              "    </tr>\n",
              "  </thead>\n",
              "  <tbody>\n",
              "    <tr>\n",
              "      <th>0</th>\n",
              "      <td>15-19</td>\n",
              "      <td>366648</td>\n",
              "      <td>0.069151</td>\n",
              "    </tr>\n",
              "    <tr>\n",
              "      <th>1</th>\n",
              "      <td>20-29</td>\n",
              "      <td>762600</td>\n",
              "      <td>0.143830</td>\n",
              "    </tr>\n",
              "    <tr>\n",
              "      <th>2</th>\n",
              "      <td>30-39</td>\n",
              "      <td>810872</td>\n",
              "      <td>0.152934</td>\n",
              "    </tr>\n",
              "    <tr>\n",
              "      <th>3</th>\n",
              "      <td>40-49</td>\n",
              "      <td>952205</td>\n",
              "      <td>0.179590</td>\n",
              "    </tr>\n",
              "    <tr>\n",
              "      <th>4</th>\n",
              "      <td>50-59</td>\n",
              "      <td>876983</td>\n",
              "      <td>0.165403</td>\n",
              "    </tr>\n",
              "    <tr>\n",
              "      <th>5</th>\n",
              "      <td>60-64</td>\n",
              "      <td>379301</td>\n",
              "      <td>0.071538</td>\n",
              "    </tr>\n",
              "    <tr>\n",
              "      <th>6</th>\n",
              "      <td>64+</td>\n",
              "      <td>1153491</td>\n",
              "      <td>0.217554</td>\n",
              "    </tr>\n",
              "  </tbody>\n",
              "</table>\n",
              "</div>"
            ],
            "text/plain": [
              "  Leeftijdsgroep  population  percentage_population\n",
              "0          15-19      366648               0.069151\n",
              "1          20-29      762600               0.143830\n",
              "2          30-39      810872               0.152934\n",
              "3          40-49      952205               0.179590\n",
              "4          50-59      876983               0.165403\n",
              "5          60-64      379301               0.071538\n",
              "6            64+     1153491               0.217554"
            ]
          },
          "execution_count": 140,
          "metadata": {},
          "output_type": "execute_result"
        }
      ],
      "source": [
        "tot_population = bestat['population'].sum()\n",
        "bestat['percentage_population'] = bestat['population'] / tot_population\n",
        "bestat"
      ]
    },
    {
      "cell_type": "code",
      "execution_count": 141,
      "metadata": {},
      "outputs": [],
      "source": [
        "n = 2164"
      ]
    },
    {
      "cell_type": "markdown",
      "metadata": {
        "id": "YJqOlCoQnc6W"
      },
      "source": [
        "We moeten eerst de absolute voorkomens van de geobserveerde waarden achterhalen. De geobserveerde waarden vinden we terug in de Digimeter dataset. Pas dan kunnen we de goodness-of-fit test kunnen uitvoeren. Als resultaat kom je volgende waarden uit:\n",
        "\n",
        "`[142.824 307.288 324.6   352.732 374.372 157.972 502.048]`"
      ]
    },
    {
      "cell_type": "code",
      "execution_count": 142,
      "metadata": {
        "id": "qPcgpC_mFdRz"
      },
      "outputs": [
        {
          "data": {
            "text/plain": [
              "array([142.824, 307.288, 324.6  , 352.732, 374.372, 157.972, 502.048])"
            ]
          },
          "execution_count": 142,
          "metadata": {},
          "output_type": "execute_result"
        }
      ],
      "source": [
        "observed = np.array(digi['Percentage']) / 100 * n\n",
        "observed"
      ]
    },
    {
      "cell_type": "markdown",
      "metadata": {
        "id": "sRfq-wXvnhyM"
      },
      "source": [
        "Naast de geobserveerde waarden kunnen we ook de `verwachte waarden` gaan achterhalen. Hiervoor werken we met de Bestat dataset. Deze berekenen we door het percentage te nemen vermenigvuldigd door het totale aantal waarden. Als resultaat bekom je volgende waarden:\n",
        "\n",
        "`[0.06915147 0.1438298  0.15293412 0.17959016 0.16540295 0.07153788 0.21755361]`"
      ]
    },
    {
      "cell_type": "code",
      "execution_count": 143,
      "metadata": {
        "id": "SBuiaY1QI6Lz"
      },
      "outputs": [
        {
          "data": {
            "text/plain": [
              "array([149.64377737, 311.24769431, 330.94943664, 388.63311141,\n",
              "       357.93199148, 154.80797495, 470.78601384])"
            ]
          },
          "execution_count": 143,
          "metadata": {},
          "output_type": "execute_result"
        }
      ],
      "source": [
        "expected = np.array(bestat['percentage_population']) * n\n",
        "expected"
      ]
    },
    {
      "cell_type": "markdown",
      "metadata": {
        "id": "-GKZZQXDd7pN"
      },
      "source": [
        "Als laatst kunnen we nu de goodness-of-fit test gaan uitvoeren. De volgende resultaten, afgerond op drie cijfers na de komma, worden verwacht:\n",
        "\n",
        "χ² ≈ 6.700 (df = 6),\n",
        "g ≈ 12.592,\n",
        "p ≈ 0.350"
      ]
    },
    {
      "cell_type": "code",
      "execution_count": 145,
      "metadata": {
        "id": "wfNU9VTyLYAy"
      },
      "outputs": [],
      "source": [
        "alpha = 0.05\n",
        "k = len(observed)\n",
        "df = 6\n",
        "g = stats.chi2.isf(alpha, df)"
      ]
    },
    {
      "cell_type": "code",
      "execution_count": 1,
      "metadata": {
        "id": "mM3npU4_MDFK"
      },
      "outputs": [],
      "source": [
        "#chi2, p = stats.chisquare(f_obs=observed, f_exp=expected)"
      ]
    }
  ],
  "metadata": {
    "colab": {
      "collapsed_sections": [],
      "name": "labs-chi-squared.ipynb",
      "provenance": []
    },
    "interpreter": {
      "hash": "461b8cd1ed42f26c365b05a87642eedf7a94d4e578d07d12c4b9e9e926e3307d"
    },
    "kernelspec": {
      "display_name": "Python 3.9.12 64-bit (windows store)",
      "language": "python",
      "name": "python3"
    },
    "language_info": {
      "codemirror_mode": {
        "name": "ipython",
        "version": 3
      },
      "file_extension": ".py",
      "mimetype": "text/x-python",
      "name": "python",
      "nbconvert_exporter": "python",
      "pygments_lexer": "ipython3",
      "version": "3.9.13"
    },
    "orig_nbformat": 4
  },
  "nbformat": 4,
  "nbformat_minor": 0
}
