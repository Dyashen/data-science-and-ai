{
 "cells": [
  {
   "cell_type": "markdown",
   "metadata": {},
   "source": [
    "# Module 5. Labs two-sample t-test"
   ]
  },
  {
   "cell_type": "code",
   "execution_count": 1,
   "metadata": {},
   "outputs": [],
   "source": [
    "# Package imports\n",
    "import numpy as np                                  # \"Scientific computing\"\n",
    "import scipy.stats as stats                         # Statistical tests\n",
    "\n",
    "import pandas as pd                                 # Dataframe\n",
    "import matplotlib.pyplot as plt                     # Basic visualisation\n",
    "from statsmodels.graphics.mosaicplot import mosaic  # Mosaic plot\n",
    "import seaborn as sns                               # Advanced dataviz"
   ]
  },
  {
   "cell_type": "markdown",
   "metadata": {},
   "source": [
    "# T-testen\n",
    "\n",
    "We onderscheiden twee soorten testen: testen voor onafhankelijke steekproeven en testen voor gepaarde steekproeven.\n",
    "\n",
    "* Een voorbeeld van een onafhankelijk onderzoek is die naar een medische behandelingsmethode waar een controlegroep de behandeling niet krijgt en een testgroep de behandeling wél krijgt.\n",
    "* Een voorbeeld van een gepaard onderzek is wanneer je twee metingen uitvoerd op hetzelfde lid van een populatie. Bijvoorbeeld koorts nemen voor en na het innemen van een medicijn om het effect ervan te meten."
   ]
  },
  {
   "cell_type": "markdown",
   "metadata": {},
   "source": [
    "## Android Persistence libraries performance vergelijking\n",
    "\n",
    "We gebruiken nogmaals de Android dataset. Nu willen we bevestigen wat het beste type persistentie is. Iets is beter wanneer het `significant` beter is dan de competitie.,\n",
    "Bij het ophalen van de dataset willen we alles groeperen op basis van zowel datasize als persistentietype. De beste combo zal die zijn met de laagste/snelste tijd."
   ]
  },
  {
   "cell_type": "code",
   "execution_count": 2,
   "metadata": {},
   "outputs": [
    {
     "data": {
      "text/plain": [
       "DataSize  PersistenceType  \n",
       "Large     GreenDAO             12.110333\n",
       "          Realm                10.651667\n",
       "          SQLLite              11.515000\n",
       "Medium    GreenDAO              7.454000\n",
       "          Realm                 5.818000\n",
       "          SQLLite               7.794000\n",
       "Small     GreenDAO              1.893667\n",
       "          Realm                 1.599000\n",
       "          SQLLite               1.799000\n",
       "          Sharedpreferences     1.673667\n",
       "Name: Time, dtype: float64"
      ]
     },
     "execution_count": 2,
     "metadata": {},
     "output_type": "execute_result"
    }
   ],
   "source": [
    "ap = pd.read_csv('https://raw.githubusercontent.com/HoGentTIN/dsai-en-labs/main/data/android_persistence_cpu.csv', delimiter=';')\n",
    "ap.groupby(['DataSize', 'PersistenceType'])['Time'].mean()"
   ]
  },
  {
   "cell_type": "markdown",
   "metadata": {},
   "source": [
    "Eerst wil ik weten of de tijd van Realm significant beter is dan die van SharedPreferences. De nulhypothese is dus `m1 - m2 = 0` met een alternatieve hypothese van `m1 - m2 < 0`. We berekenen eerst een array met de tijden voor een `Kleine` datasize met enerzijds `Realm`, anderzijds `SharedPref`. Op basis van deze twee arrays gaan we een T-test uitvoeren. Als `alternative` geven we less mee en als laatst moeten we ook meegeven of we een standaard T-test `equal_var=True` of een Welch T-test `equal_var=True` moeten uitvoeren."
   ]
  },
  {
   "cell_type": "code",
   "execution_count": 3,
   "metadata": {},
   "outputs": [
    {
     "name": "stdout",
     "output_type": "stream",
     "text": [
      "[1.57 1.77 1.75 1.78 1.36 2.17 1.58 1.59 1.36 1.55 1.33 1.96 1.58 1.59\n",
      " 1.78 1.31 1.59 2.25 1.34 2.27 1.74 1.31 1.81 1.13 1.58 1.14 1.98 1.33\n",
      " 1.12 1.35]\n",
      "[1.81 1.35 1.84 1.54 1.81 1.82 1.79 1.57 1.78 1.79 1.97 1.6  1.77 2.23\n",
      " 1.79 1.77 1.32 1.76 2.   1.3  1.77 1.35 1.56 1.79 1.31 2.23 1.83 1.09\n",
      " 1.57 1.1 ]\n"
     ]
    }
   ],
   "source": [
    "realm = np.array(ap[(ap.DataSize == 'Small') & (ap.PersistenceType == 'Realm')]['Time'])\n",
    "print(realm)\n",
    "\n",
    "sharedpref = np.array(ap[(ap.DataSize == 'Small') & (ap.PersistenceType == 'Sharedpreferences')]['Time'])\n",
    "print(sharedpref)\n",
    "\n",
    "resultaatTTest = stats.ttest_ind(a=realm, b=sharedpref, alternative='less', equal_var=False)"
   ]
  },
  {
   "cell_type": "markdown",
   "metadata": {},
   "source": [
    "De $p$ waarde is hier 0.1699 wat betekent dat de nulhypothese niet wordt verworpen. Er is niet voldoende bewijs om de nulhypothese te verwerpen én er is géén significant verschil in de Time tussen Realm en SharedPreferences bij een Small datasize."
   ]
  },
  {
   "cell_type": "code",
   "execution_count": 4,
   "metadata": {},
   "outputs": [
    {
     "data": {
      "text/plain": [
       "0.16992370571901427"
      ]
     },
     "execution_count": 4,
     "metadata": {},
     "output_type": "execute_result"
    }
   ],
   "source": [
    "resultaatTTest.pvalue"
   ]
  },
  {
   "cell_type": "markdown",
   "metadata": {},
   "source": [
    "Hieronder voeren we dezelfde test uit voor een DataSize van `Medium` en tussen de types `Realm` en `GreenDAO`."
   ]
  },
  {
   "cell_type": "code",
   "execution_count": 5,
   "metadata": {},
   "outputs": [
    {
     "data": {
      "text/plain": [
       "0.0002506300568234833"
      ]
     },
     "execution_count": 5,
     "metadata": {},
     "output_type": "execute_result"
    }
   ],
   "source": [
    "realm = np.array(ap[(ap.DataSize == 'Medium') & (ap.PersistenceType == 'Realm')]['Time'])\n",
    "#print(realm)\n",
    "\n",
    "greendao = np.array(ap[(ap.DataSize == 'Medium') & (ap.PersistenceType == 'GreenDAO')]['Time'])\n",
    "#print(greendao)\n",
    "\n",
    "resultaatTTest = stats.ttest_ind(a=realm, b=greendao, alternative='less', equal_var=False)\n",
    "\n",
    "resultaatTTest.pvalue"
   ]
  },
  {
   "cell_type": "markdown",
   "metadata": {},
   "source": [
    "Hieronder voeren we dezelfde test uit voor een DataSize van `Large` en tussen de types `Realm` en `SQLLite`."
   ]
  },
  {
   "cell_type": "code",
   "execution_count": 6,
   "metadata": {},
   "outputs": [
    {
     "data": {
      "text/plain": [
       "0.0016999220614984435"
      ]
     },
     "execution_count": 6,
     "metadata": {},
     "output_type": "execute_result"
    }
   ],
   "source": [
    "realm = np.array(ap[(ap.DataSize == 'Large') & (ap.PersistenceType == 'Realm')]['Time'])\n",
    "#print(realm)\n",
    "\n",
    "sqlite = np.array(ap[(ap.DataSize == 'Large') & (ap.PersistenceType == 'SQLLite')]['Time'])\n",
    "#print(sqlite)\n",
    "\n",
    "resultaatTTest = stats.ttest_ind(a=realm, b=sqlite, alternative='less', equal_var=False)\n",
    "\n",
    "resultaatTTest.pvalue"
   ]
  },
  {
   "cell_type": "markdown",
   "metadata": {},
   "source": [
    "### Answers\n",
    "\n",
    "The table below provides an overview of the best and second best persistence type for each data size (based on the sample mean).\n",
    "\n",
    "| Data Size | Best  | 2nd Best          | p-value   |\n",
    "| :-------- | :---- | :---------------- | :-------- |\n",
    "| Small     | Realm | SharedPreferences | 0.1699    |\n",
    "| Medium    | Realm | GreenDAO          | 0.0002506 |\n",
    "| Large     | Realm | SQLite            | 0.0017    |\n",
    "\n",
    "The conclusion of Akin (2016), which states that Realm is the most efficient persistence type, still holds, but for the small data sets the difference is not significant.\n",
    "\n",
    "Note that we have not explicitly selected a specific significance level in advance. However, for $\\alpha$ = 0.1, 0.05 or even 0.01, the same conclusion can be drawn."
   ]
  },
  {
   "cell_type": "markdown",
   "metadata": {},
   "source": [
    "##  Comparing test results between groups\n",
    "\n",
    "We halen de testresultaten dataset op. We kijken eerst om alle null-waarden uit de dataset te halen. Dit kunnen we simpelweg met `dropna` doen. Daarna gaan we groeperen op basis van het soort Sessie. Dit doen we met `groupby` en we vragen erna centrum- en spreidingsmaten op met `describe`."
   ]
  },
  {
   "cell_type": "code",
   "execution_count": 7,
   "metadata": {},
   "outputs": [
    {
     "data": {
      "text/html": [
       "<div>\n",
       "<style scoped>\n",
       "    .dataframe tbody tr th:only-of-type {\n",
       "        vertical-align: middle;\n",
       "    }\n",
       "\n",
       "    .dataframe tbody tr th {\n",
       "        vertical-align: top;\n",
       "    }\n",
       "\n",
       "    .dataframe thead tr th {\n",
       "        text-align: left;\n",
       "    }\n",
       "\n",
       "    .dataframe thead tr:last-of-type th {\n",
       "        text-align: right;\n",
       "    }\n",
       "</style>\n",
       "<table border=\"1\" class=\"dataframe\">\n",
       "  <thead>\n",
       "    <tr>\n",
       "      <th></th>\n",
       "      <th colspan=\"8\" halign=\"left\">Score</th>\n",
       "    </tr>\n",
       "    <tr>\n",
       "      <th></th>\n",
       "      <th>count</th>\n",
       "      <th>mean</th>\n",
       "      <th>std</th>\n",
       "      <th>min</th>\n",
       "      <th>25%</th>\n",
       "      <th>50%</th>\n",
       "      <th>75%</th>\n",
       "      <th>max</th>\n",
       "    </tr>\n",
       "    <tr>\n",
       "      <th>Session</th>\n",
       "      <th></th>\n",
       "      <th></th>\n",
       "      <th></th>\n",
       "      <th></th>\n",
       "      <th></th>\n",
       "      <th></th>\n",
       "      <th></th>\n",
       "      <th></th>\n",
       "    </tr>\n",
       "  </thead>\n",
       "  <tbody>\n",
       "    <tr>\n",
       "      <th>A</th>\n",
       "      <td>17.0</td>\n",
       "      <td>13.117647</td>\n",
       "      <td>6.040306</td>\n",
       "      <td>4.0</td>\n",
       "      <td>8.000</td>\n",
       "      <td>12.500</td>\n",
       "      <td>17.000</td>\n",
       "      <td>26.50</td>\n",
       "    </tr>\n",
       "    <tr>\n",
       "      <th>B</th>\n",
       "      <td>21.0</td>\n",
       "      <td>17.214286</td>\n",
       "      <td>9.150917</td>\n",
       "      <td>1.0</td>\n",
       "      <td>10.000</td>\n",
       "      <td>14.500</td>\n",
       "      <td>26.500</td>\n",
       "      <td>31.50</td>\n",
       "    </tr>\n",
       "    <tr>\n",
       "      <th>C</th>\n",
       "      <td>25.0</td>\n",
       "      <td>18.800000</td>\n",
       "      <td>6.539941</td>\n",
       "      <td>10.0</td>\n",
       "      <td>13.000</td>\n",
       "      <td>18.500</td>\n",
       "      <td>22.000</td>\n",
       "      <td>34.50</td>\n",
       "    </tr>\n",
       "    <tr>\n",
       "      <th>D</th>\n",
       "      <td>26.0</td>\n",
       "      <td>22.451923</td>\n",
       "      <td>4.641670</td>\n",
       "      <td>13.0</td>\n",
       "      <td>19.125</td>\n",
       "      <td>22.125</td>\n",
       "      <td>25.750</td>\n",
       "      <td>30.50</td>\n",
       "    </tr>\n",
       "    <tr>\n",
       "      <th>E</th>\n",
       "      <td>22.0</td>\n",
       "      <td>18.852273</td>\n",
       "      <td>7.010052</td>\n",
       "      <td>0.0</td>\n",
       "      <td>16.375</td>\n",
       "      <td>19.250</td>\n",
       "      <td>21.375</td>\n",
       "      <td>30.75</td>\n",
       "    </tr>\n",
       "    <tr>\n",
       "      <th>F</th>\n",
       "      <td>27.0</td>\n",
       "      <td>17.814815</td>\n",
       "      <td>6.274028</td>\n",
       "      <td>6.5</td>\n",
       "      <td>12.875</td>\n",
       "      <td>17.500</td>\n",
       "      <td>22.000</td>\n",
       "      <td>32.00</td>\n",
       "    </tr>\n",
       "    <tr>\n",
       "      <th>G</th>\n",
       "      <td>29.0</td>\n",
       "      <td>18.736207</td>\n",
       "      <td>5.261126</td>\n",
       "      <td>10.0</td>\n",
       "      <td>16.500</td>\n",
       "      <td>18.750</td>\n",
       "      <td>23.000</td>\n",
       "      <td>27.75</td>\n",
       "    </tr>\n",
       "    <tr>\n",
       "      <th>H</th>\n",
       "      <td>28.0</td>\n",
       "      <td>20.946429</td>\n",
       "      <td>8.133537</td>\n",
       "      <td>3.0</td>\n",
       "      <td>15.750</td>\n",
       "      <td>22.000</td>\n",
       "      <td>26.625</td>\n",
       "      <td>34.50</td>\n",
       "    </tr>\n",
       "  </tbody>\n",
       "</table>\n",
       "</div>"
      ],
      "text/plain": [
       "        Score                                                          \n",
       "        count       mean       std   min     25%     50%     75%    max\n",
       "Session                                                                \n",
       "A        17.0  13.117647  6.040306   4.0   8.000  12.500  17.000  26.50\n",
       "B        21.0  17.214286  9.150917   1.0  10.000  14.500  26.500  31.50\n",
       "C        25.0  18.800000  6.539941  10.0  13.000  18.500  22.000  34.50\n",
       "D        26.0  22.451923  4.641670  13.0  19.125  22.125  25.750  30.50\n",
       "E        22.0  18.852273  7.010052   0.0  16.375  19.250  21.375  30.75\n",
       "F        27.0  17.814815  6.274028   6.5  12.875  17.500  22.000  32.00\n",
       "G        29.0  18.736207  5.261126  10.0  16.500  18.750  23.000  27.75\n",
       "H        28.0  20.946429  8.133537   3.0  15.750  22.000  26.625  34.50"
      ]
     },
     "execution_count": 7,
     "metadata": {},
     "output_type": "execute_result"
    }
   ],
   "source": [
    "test = pd.read_csv('https://raw.githubusercontent.com/HoGentTIN/dsai-en-labs/main/data/test-results.csv')\n",
    "\n",
    "test = test.dropna()\n",
    "\n",
    "test.groupby('Session').describe()"
   ]
  },
  {
   "cell_type": "code",
   "execution_count": 8,
   "metadata": {},
   "outputs": [
    {
     "data": {
      "text/plain": [
       "<AxesSubplot:xlabel='Session', ylabel='Score'>"
      ]
     },
     "execution_count": 8,
     "metadata": {},
     "output_type": "execute_result"
    },
    {
     "data": {
      "image/png": "[encoded data removed]",
      "text/plain": [
       "<Figure size 432x288 with 1 Axes>"
      ]
     },
     "metadata": {
      "needs_background": "light"
     },
     "output_type": "display_data"
    }
   ],
   "source": [
    "sns.barplot(data=test,x='Session', y='Score', ci='sd')"
   ]
  },
  {
   "cell_type": "code",
   "execution_count": 9,
   "metadata": {},
   "outputs": [
    {
     "data": {
      "text/plain": [
       "<AxesSubplot:xlabel='Score', ylabel='Session'>"
      ]
     },
     "execution_count": 9,
     "metadata": {},
     "output_type": "execute_result"
    },
    {
     "data": {
      "image/png": "[encoded data removed]",
      "text/plain": [
       "<Figure size 432x288 with 1 Axes>"
      ]
     },
     "metadata": {
      "needs_background": "light"
     },
     "output_type": "display_data"
    }
   ],
   "source": [
    "# Boxplot maken\n",
    "# A tegenover B plaatsen\n",
    "sns.boxplot(data=test[(test.Session=='A') | (test.Session=='B')],x='Score', y='Session')"
   ]
  },
  {
   "cell_type": "code",
   "execution_count": 10,
   "metadata": {},
   "outputs": [
    {
     "data": {
      "text/plain": [
       "<AxesSubplot:xlabel='Score', ylabel='Session'>"
      ]
     },
     "execution_count": 10,
     "metadata": {},
     "output_type": "execute_result"
    },
    {
     "data": {
      "image/png": "[encoded data removed]",
      "text/plain": [
       "<Figure size 432x288 with 1 Axes>"
      ]
     },
     "metadata": {
      "needs_background": "light"
     },
     "output_type": "display_data"
    }
   ],
   "source": [
    "# C, D en E tegenover elkaar zetten\n",
    "sns.boxplot(data=test[(test.Session == 'C') | (test.Session == 'D') | (test.Session == 'E')], x='Score', y='Session')"
   ]
  },
  {
   "cell_type": "code",
   "execution_count": 11,
   "metadata": {},
   "outputs": [],
   "source": [
    "alpha = 0.05"
   ]
  },
  {
   "cell_type": "code",
   "execution_count": 12,
   "metadata": {},
   "outputs": [
    {
     "name": "stdout",
     "output_type": "stream",
     "text": [
      "[12.5  7.5 21.  10.  20.5 14.   4.   7.   7.5  8.  13.5 26.5 18.  16.\n",
      " 10.5 17.   9.5]\n",
      "De p-waarde tussen A en B is 0.054\n",
      "Het verschil is significant genoeg.\n"
     ]
    }
   ],
   "source": [
    "scoresVanA = np.array(test[(test.Session == 'A')]['Score'])\n",
    "scoresVanB = np.array(test[(test.Session == 'B')]['Score'])\n",
    "\n",
    "print(scoresVanA)\n",
    "\n",
    "p = stats.ttest_ind(a=scoresVanA, b=scoresVanB, alternative='less', equal_var=False).pvalue\n",
    "\n",
    "print(f'De p-waarde tussen A en B is {p:.3f}')\n",
    "\n",
    "if(p < alpha):\n",
    "    print(f'Het verschil is niet significant genoeg.')\n",
    "else:\n",
    "    print(f'Het verschil is significant genoeg.')"
   ]
  },
  {
   "cell_type": "code",
   "execution_count": 21,
   "metadata": {},
   "outputs": [
    {
     "name": "stdout",
     "output_type": "stream",
     "text": [
      "De p-waarde tussen C en D is 0.013\n",
      "Het verschil is niet significant genoeg.\n"
     ]
    }
   ],
   "source": [
    "scoresVanC = np.array(test[(test.Session == 'C')]['Score'])\n",
    "scoresVanD = np.array(test[(test.Session == 'D')]['Score'])\n",
    "p = stats.ttest_ind(a=scoresVanC, b=scoresVanD, alternative='less', equal_var=False).pvalue\n",
    "print(f'De p-waarde tussen C en D is {p:.3f}')\n",
    "\n",
    "if(p < alpha):\n",
    "    print(f'Het verschil is niet significant genoeg.')\n",
    "else:\n",
    "    print(f'Het verschil is significant genoeg.')"
   ]
  },
  {
   "cell_type": "code",
   "execution_count": 22,
   "metadata": {},
   "outputs": [
    {
     "name": "stdout",
     "output_type": "stream",
     "text": [
      "De p-waarde tussen C en D is 0.024\n",
      "Het verschil is niet significant genoeg.\n"
     ]
    }
   ],
   "source": [
    "scoresVanE = np.array(test[(test.Session == 'E')]['Score'])\n",
    "scoresVanD = np.array(test[(test.Session == 'D')]['Score'])\n",
    "p = stats.ttest_ind(a=scoresVanE, b=scoresVanD, alternative='less', equal_var=False).pvalue\n",
    "print(f'De p-waarde tussen C en D is {p:.3f}')\n",
    "\n",
    "if(p < alpha):\n",
    "    print(f'Het verschil is niet significant genoeg.')\n",
    "else:\n",
    "    print(f'Het verschil is significant genoeg.')"
   ]
  },
  {
   "cell_type": "markdown",
   "metadata": {},
   "source": [
    "### Answers\n",
    "\n",
    "The average score in each session was:\n",
    "\n",
    "| Session | Average score |\n",
    "| :-----: | :------------ |\n",
    "|    A    | 13.1          |\n",
    "|    B    | 17.2          |\n",
    "|    C    | 18.8          |\n",
    "|    D    | 22.5          |\n",
    "|    E    | 18.9          |\n",
    "|    F    | 17.8          |\n",
    "|    G    | 18.7          |\n",
    "|    H    | 20.9          |\n",
    "\n",
    "The table below shows the p-value of a one-sided t-test of two samples between the given sessions:\n",
    "\n",
    "| Alt. hypothesis                       | p-value   |\n",
    "| :------------------------------------ | :-------- |\n",
    "| $\\overline{x}_A - \\overline{x}_B < 0$ | 0.05356   |\n",
    "| $\\overline{x}_C - \\overline{x}_D < 0$ | 0.01343   |\n",
    "| $\\overline{x}_E - \\overline{x}_D < 0$ | 0.02356   |\n",
    "| $\\overline{x}_F - \\overline{x}_H < 0$ | 0.05767   |\n",
    "| $\\overline{x}_G - \\overline{x}_H < 0$ | 0.1156    |\n",
    "| $\\overline{x}_C - \\overline{x}_H < 0$ | 0.1463    |\n",
    "| $\\overline{x}_A - \\overline{x}_H < 0$ | 0.0003289 |\n",
    "\n",
    "Remarks:\n",
    "\n",
    "- The difference between **session A and B**, although it seems quite large, is insignificant for $\\alpha = 0.05$\n",
    "- **Sessions C, D and E**:\n",
    "  - Session D had the highest score. Sessions C and E had similar results, at least the average score was similar.\n",
    "  - Session D has a significantly higher score than either sessions C and E. However, session E came _after_ D, so the cause is definitely not the passing of information.\n",
    "- The differences between **sessions F, G and H** insignificant\n",
    "- **Sessions C and H** are respectively the first and the last session on the same campus. So, if there is an opportunity to pass on information about the test, there's definitely enough time between these two sessions. However, the difference is not significant!\n",
    "- The difference between **sessions A and H** are significant, but since they took place on different campuses, it is questionable that this difference is caused by passing on information."
   ]
  }
 ],
 "metadata": {
  "interpreter": {
   "hash": "461b8cd1ed42f26c365b05a87642eedf7a94d4e578d07d12c4b9e9e926e3307d"
  },
  "kernelspec": {
   "display_name": "Python 3.9.13 64-bit (windows store)",
   "language": "python",
   "name": "python3"
  },
  "language_info": {
   "codemirror_mode": {
    "name": "ipython",
    "version": 3
   },
   "file_extension": ".py",
   "mimetype": "text/x-python",
   "name": "python",
   "nbconvert_exporter": "python",
   "pygments_lexer": "ipython3",
   "version": "3.9.13"
  },
  "orig_nbformat": 4
 },
 "nbformat": 4,
 "nbformat_minor": 2
}
