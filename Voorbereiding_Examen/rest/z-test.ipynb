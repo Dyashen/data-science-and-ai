{
 "cells": [
  {
   "cell_type": "code",
   "execution_count": 3,
   "metadata": {},
   "outputs": [],
   "source": [
    "# Importing the necessary packages\n",
    "import numpy as np                                  # \"Scientific computing\"\n",
    "import scipy.stats as stats                         # Statistical tests\n",
    "\n",
    "import pandas as pd                                 # Data Frame\n",
    "from pandas.api.types import CategoricalDtype\n",
    "\n",
    "import matplotlib.pyplot as plt                     # Basic visualisation\n",
    "from statsmodels.graphics.mosaicplot import mosaic  # Mosaic diagram\n",
    "import seaborn as sns                               # Advanced data visualisation"
   ]
  },
  {
   "cell_type": "code",
   "execution_count": 9,
   "metadata": {},
   "outputs": [],
   "source": [
    "df = pd.DataFrame(data={'Survey':[3,2,4,3,3,4,5,3,3,3,2,3,2,4,2,3,2,4,3,4,4,3,3,1,4,2,2,2,3,3,4,4,3,3,2,2,3,2,4,4]})\n",
    "\n",
    "m = 2\n",
    "s = 1\n",
    "n = len(df.Survey)"
   ]
  },
  {
   "cell_type": "code",
   "execution_count": 11,
   "metadata": {},
   "outputs": [
    {
     "data": {
      "text/plain": [
       "2.2281001574079404"
      ]
     },
     "execution_count": 11,
     "metadata": {},
     "output_type": "execute_result"
    }
   ],
   "source": [
    "alpha = 0.05\n",
    "sample_mean = df.Survey.mean()\n",
    "s = df.Survey.std()\n",
    "n = df.Survey.shape[0]\n",
    "\n",
    "z = stats.norm.isf(alpha)\n",
    "\n",
    "lo = m - z * s / np.sqrt(n)\n",
    "hi = m + z * s / np.sqrt(n)\n",
    "\n",
    "hi"
   ]
  },
  {
   "cell_type": "code",
   "execution_count": 17,
   "metadata": {},
   "outputs": [
    {
     "data": {
      "text/plain": [
       "[<matplotlib.lines.Line2D at 0x1dd0e927d00>]"
      ]
     },
     "execution_count": 17,
     "metadata": {},
     "output_type": "execute_result"
    },
    {
     "data": {
      "image/png": "[encoded data removed]",
      "text/plain": [
       "<Figure size 432x288 with 1 Axes>"
      ]
     },
     "metadata": {
      "needs_background": "light"
     },
     "output_type": "display_data"
    }
   ],
   "source": [
    "# Plot maken\n",
    "x = np.linspace(m-(3*s), (m+(3*s)),num=50)\n",
    "y = stats.norm.pdf(x,m,s)\n",
    "plt.axvline( m-(2*s),color=\"red\")\n",
    "plt.axvline( m+(2*s),color=\"red\")\n",
    "\n",
    "plt.axvline( m-(1*s),color=\"pink\")\n",
    "plt.axvline( m+(1*s),color=\"pink\")\n",
    "\n",
    "plt.axvline(m,color=\"black\")\n",
    "\n",
    "plt.plot(x,y)"
   ]
  }
 ],
 "metadata": {
  "interpreter": {
   "hash": "461b8cd1ed42f26c365b05a87642eedf7a94d4e578d07d12c4b9e9e926e3307d"
  },
  "kernelspec": {
   "display_name": "Python 3.9.13 64-bit (windows store)",
   "language": "python",
   "name": "python3"
  },
  "language_info": {
   "codemirror_mode": {
    "name": "ipython",
    "version": 3
   },
   "file_extension": ".py",
   "mimetype": "text/x-python",
   "name": "python",
   "nbconvert_exporter": "python",
   "pygments_lexer": "ipython3",
   "version": "3.9.13"
  },
  "orig_nbformat": 4
 },
 "nbformat": 4,
 "nbformat_minor": 2
}
