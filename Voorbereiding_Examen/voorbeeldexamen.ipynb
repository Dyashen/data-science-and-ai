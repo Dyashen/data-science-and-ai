{
 "cells": [
  {
   "cell_type": "markdown",
   "metadata": {},
   "source": [
    "# Examen Data Science & AI\n",
    "\n",
    "- Student: **VUL HIER JE NAAM IN**\n",
    "- Studentennummer: **VUL HIER JE STUDENTENNUMMER IN**\n",
    "- Datum: **EXAMENDATUM**\n",
    "- Klasgroep: **VUL HIER JE KLASGROEP IN ZOALS IN DE EXAMENOPGAVE**\n"
   ]
  },
  {
   "cell_type": "markdown",
   "metadata": {},
   "source": [
    "## Instructies\n",
    "\n",
    "Bij een multiple-true-false vraag, geef je antwoorden als volgt (fictief voorbeeld):\n",
    "\n",
    "1. Waar\n",
    "2. Niet waar\n",
    "3. Niet waar\n",
    "4. Waar\n",
    "\n",
    "Ook bij vragen met verschillende deelvragen gebruik je een genummerde lijst (hieronder een fictief voorbeeld). Merk op dat je LaTeX-notatie mag gebruiken voor wiskundige uitrdukkingen.\n",
    "\n",
    "1. Een tweezijdige z-toets\n",
    "2. $\\overline{x} = 123.456$ (let op! getallen afronden tot 3 cijfers!)\n",
    "3. $g = 112.432$\n",
    "4. $p = 0.567$\n",
    "5. We kunnen de nulhypothese ... (enz.). Er is dus ... (enz.)\n",
    "\n",
    "**Verwijder vóór indienen a.u.b. alle niet gebruikte codeblokken, tekst tussen haakjes (Antwoord op vraag X) en deze instructies. Enkel jouw ingevulde antwoorden blijven over.**"
   ]
  },
  {
   "cell_type": "code",
   "execution_count": 2,
   "metadata": {},
   "outputs": [],
   "source": [
    "# Package imports for data science\n",
    "import numpy as np\n",
    "import pandas as pd\n",
    "import scipy.stats as stats\n",
    "import matplotlib.pyplot as plt\n",
    "import seaborn as sns\n",
    "from statsmodels.graphics.mosaicplot import mosaic"
   ]
  },
  {
   "cell_type": "markdown",
   "metadata": {},
   "source": [
    "## Vraag 1\n",
    "\n",
    "(antwoord op vraag 1)"
   ]
  },
  {
   "cell_type": "code",
   "execution_count": null,
   "metadata": {},
   "outputs": [],
   "source": []
  },
  {
   "cell_type": "markdown",
   "metadata": {},
   "source": [
    "# Vraag 1:\n",
    "\n",
    "`Mijn antwoord op de vraag is B. `Dit omdat de waarden niet dicht bij regressielijn liggen. De waarden zijn verspreid over de gehele plot. Als de waarden op de lijn hadden gelegen dan zou de waarde -1 geweest zijn. De rechte daalt."
   ]
  },
  {
   "cell_type": "markdown",
   "metadata": {},
   "source": [
    "## Vraag 2"
   ]
  },
  {
   "cell_type": "markdown",
   "metadata": {},
   "source": [
    "(a) Dit is `geen aselecte steekproef`. Niet iedereen heeft even veel kans om gekozen te worden in de steekproef. De mensen achteraan in de rij zullen nooit de kans krijgen om gekozen te worden.\n",
    "\n",
    "(b) `Deze steekproefmethode is niet goed.`\n",
    "\n",
    "(c)` Hier komt er een systematic sampling error voor`. Deze fout is gebaseerd op de gehele sample en niet het individu. Dit is ook geen accidental error want de steekproef is zodanig opgebouwd dat de allerlaatste mensen niet gekozen kunnen worden."
   ]
  },
  {
   "cell_type": "markdown",
   "metadata": {},
   "source": [
    "# Vraag 3\n",
    "\n",
    "Uit een normaal verdeelde populatie met gemiddelde 250 en standaardafwijking 12 wordt eenaselecte steekproef genomen.\n",
    "\n",
    "(a) Wat is de kans dat een waarneming kleiner is dan 230?\n",
    "\n",
    "(b) Wat is de kans dat een waarneming groter is dan 220?\n",
    "\n",
    "(c) Wat is de kans dat een waarneming tussen 245 en 275 ligt?\n",
    "\n",
    "(d) Tussen welk interval, symmetrisch rond het gemiddelde, zal je 50% van de waarnemingen vinden?"
   ]
  },
  {
   "cell_type": "code",
   "execution_count": 6,
   "metadata": {},
   "outputs": [
    {
     "name": "stdout",
     "output_type": "stream",
     "text": [
      "0.0477903522728147\n",
      "0.9937903346742238\n",
      "0.6429284552994241\n",
      "Het interval waar je 50% van de waarnemingen zal vinden is: [241.91, 258.09].\n"
     ]
    }
   ],
   "source": [
    "m = 250\n",
    "s = 12\n",
    "\n",
    "# Vraag A\n",
    "antwoordA = stats.norm.cdf(230, loc=m, scale=s)\n",
    "print(f'{antwoordA}')\n",
    "\n",
    "# Vraag B\n",
    "antwoordB = stats.norm.sf(220, loc=m, scale=s)\n",
    "print(f'{antwoordB}')\n",
    "\n",
    "# Vraag C\n",
    "antwoordC = stats.norm.cdf(275, loc=m, scale=s) - stats.norm.cdf(245, loc=m, scale=s)\n",
    "print(f'{antwoordC}')\n",
    "\n",
    "# Vraag D\n",
    "lo = stats.norm.isf(1-0.25, loc=m, scale=s)\n",
    "hi = stats.norm.isf(0.25, loc=m, scale=s)\n",
    "print(f'Het interval waar je 50% van de waarnemingen zal vinden is: [{lo:.2f}, {hi:.2f}].')\n"
   ]
  },
  {
   "cell_type": "markdown",
   "metadata": {},
   "source": [
    "# Vraag 4\n",
    "\n",
    "De hieronder gegeven steekproef is aselect getrokken uit een normale verdeling met $\\mu$ = 12. Bereken een 80%-betrouwbaarheidsinterval voor het populatiegemiddelde.\n"
   ]
  },
  {
   "cell_type": "code",
   "execution_count": 14,
   "metadata": {},
   "outputs": [
    {
     "name": "stdout",
     "output_type": "stream",
     "text": [
      "Het betrouwbaarheidsinterval voor 80% van het populatiegemiddelde is [11.13375741763317,12.86624258236683]\n"
     ]
    }
   ],
   "source": [
    "df = pd.DataFrame(data={'Months': [15, 7,13,11,16,11,10, 6,11, 7,15,14, 7,11,11,10, 8, 9,10,13]})\n",
    "\n",
    "m = 12\n",
    "a = 0.2 / 2\n",
    "s = df.Months.std()\n",
    "n = df.Months.shape[0]\n",
    "\n",
    "z = stats.t.isf(a, df=n-1)\n",
    "\n",
    "lo = m - z * s / np.sqrt(n)\n",
    "hi = m + z * s / np.sqrt(n)\n",
    "\n",
    "print(f'Het betrouwbaarheidsinterval voor 80% van het populatiegemiddelde is [{lo},{hi}]')"
   ]
  },
  {
   "cell_type": "markdown",
   "metadata": {},
   "source": [
    "# Vraag 5:\n",
    "\n",
    "De steekproef die hieronder gegeven is, bevat meetresultaten van een variabele Temperatureop twee tijdstippen (time1entime2). We willen weten of de metingen op het tweede tijdstipsignificant verschillend zijn van die op het eerste tijdstip.\n",
    "\n",
    "Gebruik een geschikte statistische toets (met significantieniveau 5%) om deze uitspraak teverifieeren"
   ]
  },
  {
   "cell_type": "markdown",
   "metadata": {},
   "source": [
    "## Antwoord op vraag 5:\n",
    "\n",
    "### A\n",
    "\n",
    "Hier gebruik ik een T-test paired samples. Dit omdat we met twee variabelen zitten waarvan de afhankelijke variabele kwalitatief is en de onafhankelijke variabele kwantitatief. Paired samples gebruik je wanneer je bijvoorbeeld iemand laat fietsen met een mountainbike en met een racefiets (twee groepen). Independent samples gebruik je wanneer je iemand laat fietsen voor het gebruik van spierversterkende middelen en na het gebruik\n",
    "hier vergelijk je de gemiddelden met elkaar.\n",
    "\n",
    "### B \n",
    "\n",
    "$H0$: De meting op het tweede tijdstip is significant verschillend dan die op het eerste tijdstip.\n",
    "\n",
    "$H1$: De meting op het tweede tijdstip is niet significant verschillend dan die op het eerste tijdstip.\n",
    "\n",
    "\n",
    "### C\n",
    "\n",
    "De P-waarde is 0.8744.\n",
    "\n",
    "### D\n",
    "\n",
    "...\n",
    "\n",
    "### E\n",
    "\n",
    "De interkwartielafstand is 16.5\n",
    "\n",
    "De kurtosis is 0.16\n",
    "\n",
    "Het bereik is 45\n",
    "\n",
    "De $\\sigma$ is 13.10"
   ]
  },
  {
   "cell_type": "code",
   "execution_count": 22,
   "metadata": {},
   "outputs": [
    {
     "name": "stdout",
     "output_type": "stream",
     "text": [
      "De P-waarde is 0.8744.\n",
      "p > a/2, dus H0 niet verwerpen\n"
     ]
    }
   ],
   "source": [
    "df = pd.DataFrame(data={'time1': [65, 87, 59, 71, 58, 74, 55, 98, 62, 53, 84, 63, 78, 62, 60],'time2': [82, 91, 86, 83, 85, 51, 65, 61, 76, 65, 53, 70, 51, 55, 68]})\n",
    "a = 0.05\n",
    "p = stats.ttest_rel(a=df.time2, b=df.time1, alternative='two-sided').pvalue\n",
    "\n",
    "print(f'De P-waarde is {p:.4f}.')\n",
    "\n",
    "if(p < a/2):\n",
    "    print(\"p < a/2, dus H0 verwerpen\")\n",
    "else:\n",
    "    print(\"p > a/2, dus H0 niet verwerpen\")"
   ]
  },
  {
   "cell_type": "code",
   "execution_count": 33,
   "metadata": {},
   "outputs": [
    {
     "name": "stdout",
     "output_type": "stream",
     "text": [
      "De interkwartielafstand is 16.5\n",
      "De kurtosis is 0.16\n",
      "Het bereik is 45\n",
      "De standaardafwijking is 13.10\n"
     ]
    }
   ],
   "source": [
    "# interkwartielafstand\n",
    "iqr = df.time1.quantile(0.75) - df.time1.quantile(0.25)\n",
    "\n",
    "# kurtosis\n",
    "kurt = df.time1.kurtosis()\n",
    "\n",
    "# bereik\n",
    "bereik = df.time1.max() - df.time1.min()\n",
    "\n",
    "# standaardafwijking\n",
    "s = df.time1.std()\n",
    "\n",
    "print(f'De interkwartielafstand is {iqr}')\n",
    "print(f'De kurtosis is {kurt:.2f}')\n",
    "print(f'Het bereik is {bereik}')\n",
    "print(f'De standaardafwijking is {s:.2f}')"
   ]
  },
  {
   "cell_type": "markdown",
   "metadata": {},
   "source": [
    "# Vraag 6\n",
    "\n",
    "## A\n",
    "\n",
    "We gebruiken hier de goodness-of-fit Chi² test.\n",
    "\n",
    "## B\n",
    "\n",
    "$H0$ : $\\mu1$ - $\\mu2$ = 0\n",
    "\n",
    "$H1$ : $\\mu1$ - $\\mu2$ < 0\n",
    "\n",
    "## C\n",
    "\n",
    "De $p$-waarde is ..."
   ]
  },
  {
   "cell_type": "code",
   "execution_count": 43,
   "metadata": {},
   "outputs": [
    {
     "name": "stdout",
     "output_type": "stream",
     "text": [
      "Significance level  ⍺ = 0.05\n",
      "Sample size         n = 90\n",
      "k = 3; df = 2\n",
      "Chi-squared        χ² = 31.2000\n",
      "Critical value      g = 5.9915\n",
      "p-value             p = 0.0000\n"
     ]
    }
   ],
   "source": [
    "df = pd.DataFrame(data={'Choice': [\n",
    "\"Product A\",\"Product A\",\"Product B\",\"Product B\",\"Product C\",\n",
    "\"Product B\",\"Product B\",\"Product B\",\"Product C\",\"Product B\",\n",
    "\"Product C\",\"Product A\",\"Product C\",\"Product B\",\"Product C\",\n",
    "\"Product B\",\"Product C\",\"Product C\",\"Product C\",\"Product B\",\n",
    "\"Product C\",\"Product C\",\"Product B\",\"Product C\",\"Product B\",\n",
    "\"Product B\",\"Product B\",\"Product B\",\"Product A\",\"Product B\",\n",
    "\"Product B\",\"Product B\",\"Product B\",\"Product B\",\"Product C\",\n",
    "\"Product C\",\"Product B\",\"Product C\",\"Product C\",\"Product A\",\n",
    "\"Product C\",\"Product C\",\"Product B\",\"Product B\",\"Product B\",\n",
    "\"Product B\",\"Product C\",\"Product C\",\"Product C\",\"Product C\",\n",
    "\"Product C\",\"Product B\",\"Product A\",\"Product C\",\"Product C\",\n",
    "\"Product B\",\"Product B\",\"Product C\",\"Product C\",\"Product C\",\n",
    "\"Product B\",\"Product C\",\"Product B\",\"Product B\",\"Product C\",\n",
    "\"Product B\",\"Product B\",\"Product C\",\"Product C\",\"Product B\",\n",
    "\"Product C\",\"Product C\",\"Product C\",\"Product B\",\"Product B\",\n",
    "\"Product C\",\"Product C\",\"Product C\",\"Product C\",\"Product C\",\n",
    "\"Product C\",\"Product C\",\"Product C\",\"Product C\",\"Product C\",\n",
    "\"Product C\",\"Product C\",\"Product C\",\"Product C\",\"Product B\"\n",
    "]})\n",
    "\n",
    "observed = df.Choice.value_counts()\n",
    "expected_p = np.array([1/3 ,1/3,1/3])\n",
    "\n",
    "alpha = 0.05               # Significance level\n",
    "n = sum(observed)          # Sample size\n",
    "k = len(observed)          # Number of categories\n",
    "dof = k - 1                # Degrees of freedom\n",
    "expected = expected_p * n  # Expected absolute frequencies in the sample\n",
    "g = stats.chi2.isf(alpha, df=dof)  # Critical value\n",
    "\n",
    "# Goodness-of-fit-test in Python:\n",
    "chi2, p = stats.chisquare(f_obs=observed, f_exp=expected)\n",
    "\n",
    "print(\"Significance level  ⍺ = %.2f\" % alpha)\n",
    "print(\"Sample size         n = %d\" % n)\n",
    "print(\"k = %d; df = %d\" % (k, dof))\n",
    "print(\"Chi-squared        χ² = %.4f\" % chi2)\n",
    "print(\"Critical value      g = %.4f\" % g)\n",
    "print(\"p-value             p = %.4f\" % p)"
   ]
  },
  {
   "cell_type": "markdown",
   "metadata": {},
   "source": [
    "# Vraag 7\n",
    "\n",
    "## A\n",
    "\n",
    "De richtingscoëfficient is 0.02321\n",
    "\n",
    "\n",
    "## B\n",
    "\n",
    "Het snijpunt is 427.433\n",
    "\n",
    "## C\n",
    "\n",
    "De correlatiecoëfficient $R$ is 0.0416. De waarde ligt zeer dicht tegen nul wat betekent dat er weinig samenhang is tussen de twee variabelen `x` en `y`.\n",
    "\n",
    "## D\n",
    "\n",
    "De determinatiecoëfficient $R²$ is 0.0017. Deze waarde is een absoluut getal dat het percentage geeft. Het percentage hier duidt aan dat er bijna geen enkel verband is tussen de twee variabelen `x` en `y`."
   ]
  },
  {
   "cell_type": "code",
   "execution_count": 57,
   "metadata": {},
   "outputs": [
    {
     "name": "stdout",
     "output_type": "stream",
     "text": [
      "De richtingscoëfficient is 0.02321\n",
      "Het snijpunt is 427.433\n",
      "De correlatiecoëfficient R is 0.0416\n",
      "De determinatiecoëfficient R² is 0.0017\n"
     ]
    }
   ],
   "source": [
    "df = pd.DataFrame(data={'x': [394, 369, 393, 442, 371, 416, 477, 406, 422, 459,410, 433, 365, 454, 373, 400, 354, 422, 399, 365,367, 428, 423, 336, 400, 425, 429, 413, 395, 474,405, 410, 383, 359, 429, 372, 331, 476, 395, 339,417, 347, 414, 444, 390, 389, 467, 386, 371, 367,378, 447, 432, 382, 339, 341, 401, 430, 386, 413,435, 414, 433, 435, 362, 356, 386, 322, 455, 384,321, 416, 390, 411, 397, 483, 405, 367, 367, 406,394, 424, 389, 333, 442, 422, 381, 450, 390, 392,368, 381, 406, 337, 419, 397, 427, 368, 501, 435],'y': [461, 427, 468, 426, 418, 463, 441, 461, 436, 439,444, 425, 395, 426, 425, 443, 420, 442, 471, 455,432, 419, 438, 411, 468, 439, 424, 462, 405, 462,407, 435, 422, 450, 436, 450, 440, 418, 426, 423,426, 422, 414, 408, 442, 434, 454, 441, 406, 396,497, 394, 435, 460, 461, 451, 422, 432, 438, 449,410, 426, 435, 460, 452, 475, 426, 437, 469, 444,444, 439, 446, 461, 448, 474, 432, 412, 449, 430,433, 423, 449, 429, 386, 480, 422, 464, 397, 407,409, 455, 461, 431, 420, 445, 424, 453, 432, 449]})\n",
    "\n",
    "from sklearn.linear_model import LinearRegression\n",
    "\n",
    "X = df.x.values.reshape(-1,1)\n",
    "Y = df.y\n",
    "\n",
    "weight_model = LinearRegression().fit(X,Y)\n",
    "\n",
    "snijpunt = weight_model.intercept_\n",
    "rico = weight_model.coef_[0]\n",
    "\n",
    "corr = np.corrcoef(df.x, df.y)[0][1]\n",
    "corr2 = corr**2\n",
    "\n",
    "print(f'De richtingscoëfficient is {rico:.5f}')\n",
    "print(f'Het snijpunt is {snijpunt:.3f}')\n",
    "\n",
    "print(f'De correlatiecoëfficient R is {corr:.4f}')\n",
    "print(f'De determinatiecoëfficient R² is {corr2:.4f}')\n"
   ]
  },
  {
   "cell_type": "code",
   "execution_count": 56,
   "metadata": {},
   "outputs": [
    {
     "data": {
      "text/plain": [
       "<AxesSubplot:xlabel='x', ylabel='y'>"
      ]
     },
     "execution_count": 56,
     "metadata": {},
     "output_type": "execute_result"
    },
    {
     "data": {
      "image/png": "[encoded data removed]",
      "text/plain": [
       "<Figure size 432x288 with 1 Axes>"
      ]
     },
     "metadata": {
      "needs_background": "light"
     },
     "output_type": "display_data"
    }
   ],
   "source": [
    "sns.regplot(data=df, x='x', y='y')"
   ]
  },
  {
   "cell_type": "markdown",
   "metadata": {},
   "source": [
    "# Vraag 8\n",
    "\n",
    "## A\n",
    "\n",
    "Paars: `Eenvoudig voortschrijdend gemiddelde met periode 12`\n",
    "\n",
    "Cyaan:  `Enkelvoudige expontentiële afvlakking met `$\\sigma$ `= 0.1`\n",
    "\n",
    "Rood: `Eenvoudig voortschrijdend gemiddelde met periode 3`\n",
    "\n",
    "## B\n",
    "\n",
    "`Mijn definitief antwoord is B.`\n",
    "\n",
    "Er is hier een stijgende trend op te merken. In Juli merk ik op beide drie jaren een sterke daling die nadien dan weer fors stijgt. Dit zou een seizoenale periode kunnen betekenen, maar dit is een uitzondering op de gehele grafiek. Vandaar komt dit het meest overeen met dubbele exponenti ̈ele afvlakking. \n",
    "\n",
    "In het geval dat er wél een sterke seizoenale overeenkomst was, was er hier sprake van een driedubbele exponentiële afvlakking met multiplicatie. Dit omdat de grafiek uitwaaiert."
   ]
  }
 ],
 "metadata": {
  "interpreter": {
   "hash": "461b8cd1ed42f26c365b05a87642eedf7a94d4e578d07d12c4b9e9e926e3307d"
  },
  "kernelspec": {
   "display_name": "Python 3.9.13 64-bit (windows store)",
   "language": "python",
   "name": "python3"
  },
  "language_info": {
   "codemirror_mode": {
    "name": "ipython",
    "version": 3
   },
   "file_extension": ".py",
   "mimetype": "text/x-python",
   "name": "python",
   "nbconvert_exporter": "python",
   "pygments_lexer": "ipython3",
   "version": "3.9.13"
  },
  "orig_nbformat": 4
 },
 "nbformat": 4,
 "nbformat_minor": 2
}
