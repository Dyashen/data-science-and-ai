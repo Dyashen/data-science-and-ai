{
 "cells": [
  {
   "cell_type": "code",
   "execution_count": 1,
   "metadata": {},
   "outputs": [
    {
     "data": {
      "text/html": [
       "<div>\n",
       "<style scoped>\n",
       "    .dataframe tbody tr th:only-of-type {\n",
       "        vertical-align: middle;\n",
       "    }\n",
       "\n",
       "    .dataframe tbody tr th {\n",
       "        vertical-align: top;\n",
       "    }\n",
       "\n",
       "    .dataframe thead th {\n",
       "        text-align: right;\n",
       "    }\n",
       "</style>\n",
       "<table border=\"1\" class=\"dataframe\">\n",
       "  <thead>\n",
       "    <tr style=\"text-align: right;\">\n",
       "      <th></th>\n",
       "      <th>Store</th>\n",
       "      <th>Product Type</th>\n",
       "    </tr>\n",
       "  </thead>\n",
       "  <tbody>\n",
       "    <tr>\n",
       "      <th>0</th>\n",
       "      <td>South Outlet</td>\n",
       "      <td>High Fashion</td>\n",
       "    </tr>\n",
       "    <tr>\n",
       "      <th>1</th>\n",
       "      <td>South Outlet</td>\n",
       "      <td>Mid-Range</td>\n",
       "    </tr>\n",
       "    <tr>\n",
       "      <th>2</th>\n",
       "      <td>West Outlet</td>\n",
       "      <td>Budget</td>\n",
       "    </tr>\n",
       "    <tr>\n",
       "      <th>3</th>\n",
       "      <td>West Outlet</td>\n",
       "      <td>Mid-Range</td>\n",
       "    </tr>\n",
       "    <tr>\n",
       "      <th>4</th>\n",
       "      <td>East Outlet</td>\n",
       "      <td>Mid-Range</td>\n",
       "    </tr>\n",
       "  </tbody>\n",
       "</table>\n",
       "</div>"
      ],
      "text/plain": [
       "          Store  Product Type\n",
       "0  South Outlet  High Fashion\n",
       "1  South Outlet     Mid-Range\n",
       "2   West Outlet        Budget\n",
       "3   West Outlet     Mid-Range\n",
       "4   East Outlet     Mid-Range"
      ]
     },
     "execution_count": 1,
     "metadata": {},
     "output_type": "execute_result"
    }
   ],
   "source": [
    "# Package imports for data science\n",
    "import numpy as np\n",
    "import pandas as pd\n",
    "import scipy.stats as stats\n",
    "import matplotlib.pyplot as plt\n",
    "import seaborn as sns\n",
    "from statsmodels.graphics.mosaicplot import mosaic\n",
    "\n",
    "df = pd.read_csv('C:/DSAI_2021-22/Voorbereiding_Examen/chi²/stores.csv', delimiter=';')\n",
    "\n",
    "df.head()"
   ]
  },
  {
   "cell_type": "markdown",
   "metadata": {},
   "source": [
    "RQ: Does Store differ by Product Type?\n",
    "\n",
    "$H0$: Store is independent of Product Type.\n",
    "\n",
    "$H1$: Store is not independent of Product Type."
   ]
  },
  {
   "cell_type": "code",
   "execution_count": 10,
   "metadata": {},
   "outputs": [
    {
     "name": "stdout",
     "output_type": "stream",
     "text": [
      "Store         East Outlet  South Outlet  West Outlet\n",
      "Product Type                                        \n",
      "Budget                 52            22           64\n",
      "High Fashion           46            76           16\n",
      "Mid-Range              22            16           46\n",
      "Chi-squared   χ² = 77.0181\n",
      "Critical value g = 9.4877\n",
      "p-value        p = 0.000000\n"
     ]
    }
   ],
   "source": [
    "alpha = 0.05\n",
    "n = df.shape[0]\n",
    "\n",
    "observed = pd.crosstab(df['Product Type'], df['Store'])\n",
    "\n",
    "print(observed)\n",
    "\n",
    "chi2, p, dof, expected = stats.chi2_contingency(observed)\n",
    "\n",
    "g = stats.chi2.isf(alpha, df=dof)  # Critical value\n",
    "\n",
    "# (observed - expected)**2 / expected\n",
    "\n",
    "print(\"Chi-squared   χ² = %.4f\" % chi2)\n",
    "print(\"Critical value g = %.4f\" % g)\n",
    "print(\"p-value        p = %f\"   % p)"
   ]
  },
  {
   "cell_type": "code",
   "execution_count": 9,
   "metadata": {},
   "outputs": [
    {
     "name": "stdout",
     "output_type": "stream",
     "text": [
      "φC: 0.3270620902522984\n"
     ]
    }
   ],
   "source": [
    "dof = min(observed.shape) - 1\n",
    "cramers_v = np.sqrt(chi2 / (dof * n))\n",
    "print(f'φC: {cramers_v}')"
   ]
  },
  {
   "cell_type": "markdown",
   "metadata": {},
   "source": [
    "Conclusion: Reject the null and accept the alternative. The chi-squared is statistically significant. Different outlets sell certain products more effectively. Cramer's V was 0.33. The observed and expected values above should be examined to interpret further."
   ]
  }
 ],
 "metadata": {
  "interpreter": {
   "hash": "461b8cd1ed42f26c365b05a87642eedf7a94d4e578d07d12c4b9e9e926e3307d"
  },
  "kernelspec": {
   "display_name": "Python 3.9.13 64-bit (windows store)",
   "language": "python",
   "name": "python3"
  },
  "language_info": {
   "codemirror_mode": {
    "name": "ipython",
    "version": 3
   },
   "file_extension": ".py",
   "mimetype": "text/x-python",
   "name": "python",
   "nbconvert_exporter": "python",
   "pygments_lexer": "ipython3",
   "version": "3.9.13"
  },
  "orig_nbformat": 4
 },
 "nbformat": 4,
 "nbformat_minor": 2
}
