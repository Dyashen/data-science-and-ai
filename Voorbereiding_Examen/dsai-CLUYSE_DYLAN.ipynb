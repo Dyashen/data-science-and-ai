{
 "cells": [
  {
   "cell_type": "markdown",
   "metadata": {},
   "source": [
    "# Examen Data Science & AI\n",
    "\n",
    "- Student: **Dylan Cluyse**\n",
    "- Studentennummer: **202074919**\n",
    "- Datum: **31-05-2022**\n",
    "- Klasgroep: **PBA-TIN-TI/G2E2**\n"
   ]
  },
  {
   "cell_type": "markdown",
   "metadata": {},
   "source": [
    "## Instructies\n",
    "\n",
    "Bij een multiple-true-false vraag, geef je antwoorden als volgt (fictief voorbeeld):\n",
    "\n",
    "1. Waar\n",
    "2. Niet waar\n",
    "3. Niet waar\n",
    "4. Waar\n",
    "\n",
    "Ook bij vragen met verschillende deelvragen gebruik je een genummerde lijst (hieronder een fictief voorbeeld). Merk op dat je LaTeX-notatie mag gebruiken voor wiskundige uitrdukkingen.\n",
    "\n",
    "1. Een tweezijdige z-toets\n",
    "2. $\\overline{x} = 123.456$ (let op! getallen afronden tot 3 cijfers!)\n",
    "3. $g = 112.432$\n",
    "4. $p = 0.567$\n",
    "5. We kunnen de nulhypothese ... (enz.). Er is dus ... (enz.)\n",
    "\n",
    "**Verwijder vóór indienen a.u.b. alle niet gebruikte codeblokken, tekst tussen haakjes (Antwoord op vraag X) en deze instructies. Enkel jouw ingevulde antwoorden blijven over.**"
   ]
  },
  {
   "cell_type": "code",
   "execution_count": 2,
   "metadata": {},
   "outputs": [],
   "source": [
    "# Package imports for data science\n",
    "import numpy as np\n",
    "import pandas as pd\n",
    "import scipy.stats as stats\n",
    "import matplotlib.pyplot as plt\n",
    "import seaborn as sns\n",
    "from statsmodels.graphics.mosaicplot import mosaic"
   ]
  },
  {
   "cell_type": "markdown",
   "metadata": {},
   "source": [
    "## Vraag 1\n",
    "\n",
    "A. Nationaliteit: `Nominaal` (Kwalitatief)\n",
    "\n",
    "B. Aantal kinderen dat iemand heeft `Ordinaal` (Kwalitatief), maar kan ook een ratio (kwantitatief) zijn omdat je niet minder dan nul kinderen kan hebben. Mijn definitief antwoord is ordinaal.\n",
    "\n",
    "C. Sterrenbeeld: `Nominaal`(Kwalitatief)\n",
    "\n",
    "D. Waarde die men hecht aan sterrenbeelden: `Ordinaal`(Kwalitatief)"
   ]
  },
  {
   "cell_type": "markdown",
   "metadata": {},
   "source": [
    "## Vraag 2\n",
    "\n",
    "A. Dit is `geen aselecte` steekproef. Mensen die niet recent naar de bank zijn gegaan maken geen kans om deel te nemen aan deze vragenlijst. Enkel de mensen die recent zijn gegaan maken (gegarandeerd) kans om deel te nemen.\n",
    "\n",
    "B. Hier wordt een `systematic sampling error` gemaakt. De steekproef houdt geen rekening met mensen die geen computers hebben. Iedereen zonder computer of internetverbinding wordt uitgezonderd van deze steekproef."
   ]
  },
  {
   "cell_type": "markdown",
   "metadata": {},
   "source": [
    "## Vraag 3\n",
    "\n",
    "A. De gebeurtenissen PS en XB zijn `afhankelijk`.\n",
    "\n",
    "B. De kans is `4/5` of 80% dat de willekeurige student een PlayStation of een Xbox heeft. Dit komt overeen op 160 van de 200 studenten.\n",
    "\n",
    "C. De kans is `3/10` of 30% dat een willekeurige student enkel een PlayStation heeft. Dit komt overeen op 60 van de 200 studenten.\n",
    "\n",
    "D. De kans is `1/4` of 25% dat een willekeurige student een PlayStation heeft als we weten dat hij/zij een Xbox heeft. Dit komt overeen op 20 van de 80 studenten."
   ]
  },
  {
   "cell_type": "markdown",
   "metadata": {},
   "source": [
    "# Vraag 4\n",
    "\n",
    "`Antwoord A.` De vorm van de kansverdeling van de gemiddelde levensduur zal onbekend zijn. We beschikken enkel over tien samples wat niet voldoet aan de centrale limietstelling. Hiervoor hebben wij een grotere sample nodig om minstens een normaalverdeling te krijgen."
   ]
  },
  {
   "cell_type": "markdown",
   "metadata": {},
   "source": [
    "# Vraag 5\n",
    "\n",
    "Het betrouwbaarheidsinterval heeft hier een `ondergrens van 5121.001` en een `bovengrens van 5309.279`.\n",
    "\n",
    "A. Ondergrens: 5121.001\n",
    "\n",
    "B. Bovengrens: 5309.279\n"
   ]
  },
  {
   "cell_type": "code",
   "execution_count": 3,
   "metadata": {},
   "outputs": [
    {
     "name": "stdout",
     "output_type": "stream",
     "text": [
      "Betrouwbaarheidsinterval: [5121.001, 5309.279]\n"
     ]
    }
   ],
   "source": [
    "sample = np.array([\n",
    "4971, 5486, 5056, 5360, 5687, 4808, 5236, 4714, 4574, 5711, 5258,\n",
    "4352, 5683, 4678, 5414, 4976, 5711, 5798, 4898, 4538, 5631, 5997,\n",
    "5219, 5609, 5117, 5413, 4991, 5085, 4985, 4980, 5169, 5250, 5671,\n",
    "5938, 4402, 5234, 5024, 5337, 5454, 4688, 4441, 5984, 4707, 5288,\n",
    "5380, 4908, 5439, 4898, 6060, 5263, 4904, 5261, 5754, 5401, 5057,\n",
    "5467, 5142, 5513, 4694, 5228, 5705, 5306, 4482, 4942, 5068, 6468,\n",
    "5183, 5890, 4690, 5155, 5865, 4934, 4597, 5322, 4261, 5718, 5219,\n",
    "5056, 5312, 5233, 5901, 5515, 6107, 5556, 5327, 5197, 5628, 5125,\n",
    "5189, 5117, 4709, 4199, 5423, 5029, 4867, 4225, 5699, 5231, 5624,\n",
    "4548\n",
    "])\n",
    "\n",
    "s = 420\n",
    "alpha = 1-0.975\n",
    "m = sample.mean()\n",
    "n = len(sample)\n",
    "\n",
    "# rechtergebied ==> helft van de alfa\n",
    "z = stats.norm.isf(alpha/2)\n",
    "#print(\"z-score: %.5f\" % z)\n",
    "\n",
    "# ondergrens en bovengrens berekenen\n",
    "lo = m - z * s / np.sqrt(n)\n",
    "hi = m + z * s / np.sqrt(n)\n",
    "print(\"Betrouwbaarheidsinterval: [%.3f, %.3f]\" % (lo, hi))"
   ]
  },
  {
   "cell_type": "markdown",
   "metadata": {},
   "source": [
    "# Vraag 6\n",
    "\n",
    "A. Hieronder gebruik ik de `paired samples t-test`. Dit omdat de twee methoden verschillend zijn en omdat er gevraagd wordt naar een significant verschil tussen de twee waarden.\n",
    "\n",
    "B. \n",
    "\n",
    "$H0$: $\\mu1$ - $\\mu2$ > $\\sigma$ Het verschil tussen de gemiddelde tijd van Methode A en B zijn significant verschillend. $\\mu1$ is het gemiddelde van Methode A en $\\mu2$ is het gemiddelde van Methode B.\n",
    "\n",
    "$H0$: $\\mu1$ - $\\mu2$ < $\\sigma$ Het verschil tussen de gemiddelde tijd van Methode A en B zijn niet significant verschillend. $\\mu1$ is het gemiddelde van Methode A en $\\mu2$ is het gemiddelde van Methode B.\n",
    "\n",
    "C. De P-waarde is hier `0.000897`.\n",
    "\n",
    "D. De nulhypothese zal behouden worden. De P-waarde is hier veel te klein wat betekent dat er weinig kans is dat de nulhypothese zal worden verworpen. Het verschil tussen de twee gemiddelden is niet significant genoeg.\n",
    "\n",
    "E. De interkwartielafstand van Methode A is `10.500`.\n",
    "\n",
    "F. De variantie van Methode A is `51.495`"
   ]
  },
  {
   "cell_type": "code",
   "execution_count": 4,
   "metadata": {},
   "outputs": [
    {
     "name": "stdout",
     "output_type": "stream",
     "text": [
      "De p-waarde is p = 0.000897\n",
      "De interkwartielafstand van Methode A is 10.500.\n",
      "De variantie van Methode A is 51.495.\n"
     ]
    }
   ],
   "source": [
    "my_sample = pd.DataFrame(data={\n",
    "'Method':\n",
    "[\"MethodB\", \"MethodA\", \"MethodB\", \"MethodB\", \"MethodA\", \"MethodA\",\n",
    "\"MethodA\", \"MethodB\", \"MethodB\", \"MethodB\", \"MethodA\",\n",
    "\"MethodA\", \"MethodA\", \"MethodA\", \"MethodB\", \"MethodA\",\n",
    "\"MethodA\", \"MethodB\", \"MethodA\", \"MethodB\", \"MethodA\",\n",
    "\"MethodB\", \"MethodB\", \"MethodB\", \"MethodA\", \"MethodB\",\n",
    "\"MethodB\", \"MethodB\", \"MethodA\", \"MethodB\"],\n",
    "'Money':\n",
    "[63, 81, 64, 67, 74, 82, 78, 67, 55, 69, 59, 61, 73, 69, 57, 71, 68,\n",
    "64, 66, 61, 72, 33, 55, 52, 66, 50, 77, 63, 80, 59]\n",
    "})\n",
    "\n",
    "methoda = np.array(my_sample[my_sample['Method']=='MethodA']['Money'].values)\n",
    "methodb = np.array(my_sample[my_sample['Method']=='MethodB']['Money'].values)\n",
    "\n",
    "p = stats.ttest_ind(a=methoda, b=methodb,\n",
    "    alternative='two-sided', equal_var=False).pvalue\n",
    "\n",
    "print(\"De p-waarde is p = %f\"   % p)\n",
    "\n",
    "q3 =  my_sample[my_sample['Method']=='MethodA']['Money'].quantile(0.75)\n",
    "q1 =  my_sample[my_sample['Method']=='MethodA']['Money'].quantile(0.25)\n",
    "\n",
    "iqr = q3 - q1\n",
    "\n",
    "var = my_sample[my_sample['Method']=='MethodA']['Money'].var()\n",
    "\n",
    "print(f'De interkwartielafstand van Methode A is {iqr:.3f}.')\n",
    "print(f'De variantie van Methode A is {var:.3f}.')"
   ]
  },
  {
   "cell_type": "markdown",
   "metadata": {},
   "source": [
    "# Vraag 7\n",
    "\n",
    "A. Hieronder gebruik ik de `goodness-of-fit Chi-test`.\n",
    "\n",
    "B. De P-waarde is `0.001933`.\n",
    "\n",
    "C. De P-waarde is hier kleiner dan het significantieniveau. Dit betekent dat de kans klein is dat de kans klein is dat de nulhypothese zal worden verworpen.\n",
    "\n",
    "D. Het residu voor LexCorp is `4.899`.\n",
    "\n",
    "E. De waarde voor LexCorp is in deze steekproef `oververtegenwoordigd of overrepresentatief`.  De waarde is hier hoger dan 2 wat buiten het gewenste interval valt. Een acceptabele waarde had tussen -2 en 2 gelegen. "
   ]
  },
  {
   "cell_type": "code",
   "execution_count": 5,
   "metadata": {},
   "outputs": [
    {
     "name": "stdout",
     "output_type": "stream",
     "text": [
      "Chi²            χ² = 17.0000\n",
      "p-waarde        p = 0.001933\n"
     ]
    }
   ],
   "source": [
    "df = pd.DataFrame(data={'Preference': [\n",
    "\"Dharma\", \"LexCorp\", \"Cyberdyne\", \"Umbrella\", \"Dharma\", \"LexCorp\",\n",
    "\"Cyberdyne\", \"Cyberdyne\", \"Dharma\", \"LexCorp\", \"Cyberdyne\",\n",
    "\"Cyberdyne\", \"Dharma\", \"Tyrell\", \"Umbrella\", \"Umbrella\",\n",
    "\"Umbrella\", \"Cyberdyne\", \"Cyberdyne\", \"Cyberdyne\", \"LexCorp\",\n",
    "\"Dharma\", \"Dharma\", \"Dharma\", \"Cyberdyne\", \"Cyberdyne\", \"Umbrella\",\n",
    "\"Dharma\", \"Umbrella\", \"Tyrell\", \"Dharma\", \"Cyberdyne\", \"Dharma\",\n",
    "\"Dharma\", \"Dharma\", \"Dharma\", \"Cyberdyne\", \"LexCorp\", \"Dharma\",\n",
    "\"Dharma\", \"Dharma\", \"Dharma\", \"Dharma\", \"Umbrella\", \"Tyrell\",\n",
    "\"LexCorp\", \"Cyberdyne\", \"Tyrell\", \"Dharma\", \"Dharma\"\n",
    "]})\n",
    "\n",
    "alpha = .05\n",
    "\n",
    "observed = df['Preference'].value_counts()\n",
    "expected = np.array(([1/5, 1/5, 1/5, 1/5, 1/5])) * len(df)\n",
    "\n",
    "dof=len(df)-1\n",
    "g = stats.chi2.isf(alpha, df=dof)\n",
    "\n",
    "chi2, p = stats.chisquare(f_obs=observed, f_exp=expected)\n",
    "\n",
    "print(\"Chi²            χ² = %.4f\" % chi2)\n",
    "print(\"p-waarde        p = %f\"   % p)"
   ]
  },
  {
   "cell_type": "code",
   "execution_count": 6,
   "metadata": {},
   "outputs": [
    {
     "name": "stdout",
     "output_type": "stream",
     "text": [
      "Het residu hier is 4.899\n"
     ]
    }
   ],
   "source": [
    "# Residu berekenen\n",
    "observedLexcorp = df[df['Preference'] == 'LexCorp'].shape[0]\n",
    "expectedLexcorp = observedLexcorp * 0.2\n",
    "\n",
    "#print(f'Het residu voor LexCorp {residu:.2%}')\n",
    "\n",
    "residu = (observedLexcorp - expectedLexcorp) / np.sqrt(expectedLexcorp * (1 - 0.2))\n",
    "\n",
    "print(f'Het residu hier is {residu:.3f}')"
   ]
  },
  {
   "cell_type": "markdown",
   "metadata": {},
   "source": [
    "# Vraag 8\n",
    "\n",
    "(a) De richtingscoëfficient van de regressierechte is `-0.298`.\n",
    "\n",
    "(b) Het snijpunt met de Y-as is `4496.981`.\n",
    "\n",
    "(c) Deze sample heeft een $R$ van `-0.6101`.\n",
    "\n",
    "(d) De R voor deze sample is merendeels matig. Enkele waarden sluiten zeer nauw aan met de regressielijn, maar een groot deel ervan is verspreid over de plot. De waarde is negatief omdat we hier een dalende regressierechte hebben. Er is een licht verband tussen variabele X en variabele Y.\n",
    "\n",
    "(e) Deze sample heeft een $R²$ van `0.3722`.\n",
    "\n",
    "(f) De determinatiecoëfficient voor deze sample hier aan dat we geen sterk lineair verband hebben tussen variabele X en Y. De waarde ligt hier onder 0.5 en is met andere woorden ver verwijderd van de waarde 1. "
   ]
  },
  {
   "cell_type": "code",
   "execution_count": 7,
   "metadata": {},
   "outputs": [
    {
     "name": "stdout",
     "output_type": "stream",
     "text": [
      "De richtingscoëfficient is -0.298\n",
      "Het snijpunt met de Y-as is 4496.981\n",
      "Regressielijn: ŷ = 4496.9811072572 + -0.2984612802765864 x\n",
      "R: -0.6101\n",
      "R²: 0.3722\n"
     ]
    }
   ],
   "source": [
    "sample_data = pd.DataFrame(data = {\n",
    "'x': [5745, 4638, 5079, 4977, 5639, 6021, 4836, 5031, 4617, 5422,\n",
    "4885, 5178, 5462, 3968, 5208, 5865, 5132, 5418, 5244,\n",
    "5371, 4411, 4436, 5079, 5667, 5412, 3671, 5541, 4658,\n",
    "4353, 5370, 4344, 5852, 3813, 4527, 5582, 6000, 5654,\n",
    "5565, 4742, 4454, 4408, 5007, 6318, 5427, 4897, 5506,\n",
    "4521, 4363, 5119, 5078, 5721, 4423, 4483, 6111, 5243,\n",
    "4211, 5237, 4566, 4654, 4646],\n",
    "'y': [2562, 2959, 3003, 3306, 2762, 2844, 2710, 3138, 3298, 2887,\n",
    "3168, 2555, 2392, 3410, 3465, 2784, 3439, 2971, 2835,\n",
    "2585, 2909, 3033, 2690, 2974, 2885, 3500, 2912, 2715,\n",
    "3430, 3234, 3331, 2694, 3082, 3371, 2547, 2648, 2844,\n",
    "2619, 2695, 3465, 3127, 2994, 2515, 3060, 3196, 2942,\n",
    "2772, 3197, 3040, 2984, 2792, 3148, 3567, 2686, 3358,\n",
    "2998, 2929, 3220, 2967, 3300]})\n",
    "\n",
    "# Berekenen van regressierechte\n",
    "\n",
    "from sklearn.linear_model import LinearRegression\n",
    "\n",
    "X = sample_data.x.values.reshape((-1,1))\n",
    "Y = sample_data.y\n",
    "\n",
    "weight_model = LinearRegression().fit(X,Y)\n",
    "\n",
    "snijpunt = weight_model.intercept_\n",
    "rico = weight_model.coef_[0]\n",
    "\n",
    "print(f'De richtingscoëfficient is {rico:.3f}')\n",
    "print(f'Het snijpunt met de Y-as is {snijpunt:.3f}')\n",
    "print(f\"Regressielijn: ŷ = {weight_model.intercept_} + {weight_model.coef_[0]} x\")\n",
    "\n",
    "# Berekenen van R-waarden\n",
    "\n",
    "corr = np.corrcoef(sample_data.x, sample_data.y)[0][1]\n",
    "r = corr\n",
    "r2 = corr**2\n",
    "\n",
    "print(f'R: {r:.4f}')\n",
    "print(f'R²: {r2:.4f}')"
   ]
  },
  {
   "cell_type": "markdown",
   "metadata": {},
   "source": [
    "# Vraag 9\n",
    "\n",
    "A. Model van Holt met additieve trend.\n",
    "\n",
    "B. Model van Holt met multiplicatieve trend. Multiplicatief want de grafiek waaiert uit naarmate de X-as vordert.\n",
    "\n",
    "C. Model van Holt-Winters met additief seizoenseffect\n",
    "\n",
    "D. Model van Holt-Winters met multiplicatief seizoenseffect. Multiplicatief want de grafiek waaiert uit naarmate de X-as vordert."
   ]
  }
 ],
 "metadata": {
  "kernelspec": {
   "display_name": "Python 3.10.8 64-bit (microsoft store)",
   "language": "python",
   "name": "python3"
  },
  "language_info": {
   "codemirror_mode": {
    "name": "ipython",
    "version": 3
   },
   "file_extension": ".py",
   "mimetype": "text/x-python",
   "name": "python",
   "nbconvert_exporter": "python",
   "pygments_lexer": "ipython3",
   "version": "3.10.8"
  },
  "orig_nbformat": 4,
  "vscode": {
   "interpreter": {
    "hash": "89da10480825c8ad24c96d10788e772e9a68ac77e314b3c42d655a8c40ed70a5"
   }
  }
 },
 "nbformat": 4,
 "nbformat_minor": 2
}
