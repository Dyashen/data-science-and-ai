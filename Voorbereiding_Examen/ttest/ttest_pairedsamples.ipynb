{
 "cells": [
  {
   "cell_type": "code",
   "execution_count": 6,
   "metadata": {},
   "outputs": [
    {
     "data": {
      "text/html": [
       "<div>\n",
       "<style scoped>\n",
       "    .dataframe tbody tr th:only-of-type {\n",
       "        vertical-align: middle;\n",
       "    }\n",
       "\n",
       "    .dataframe tbody tr th {\n",
       "        vertical-align: top;\n",
       "    }\n",
       "\n",
       "    .dataframe thead th {\n",
       "        text-align: right;\n",
       "    }\n",
       "</style>\n",
       "<table border=\"1\" class=\"dataframe\">\n",
       "  <thead>\n",
       "    <tr style=\"text-align: right;\">\n",
       "      <th></th>\n",
       "      <th>Money (Time 1)</th>\n",
       "      <th>Money (Time 2)</th>\n",
       "    </tr>\n",
       "  </thead>\n",
       "  <tbody>\n",
       "    <tr>\n",
       "      <th>0</th>\n",
       "      <td>573</td>\n",
       "      <td>413</td>\n",
       "    </tr>\n",
       "    <tr>\n",
       "      <th>1</th>\n",
       "      <td>445</td>\n",
       "      <td>632</td>\n",
       "    </tr>\n",
       "    <tr>\n",
       "      <th>2</th>\n",
       "      <td>493</td>\n",
       "      <td>612</td>\n",
       "    </tr>\n",
       "    <tr>\n",
       "      <th>3</th>\n",
       "      <td>814</td>\n",
       "      <td>322</td>\n",
       "    </tr>\n",
       "    <tr>\n",
       "      <th>4</th>\n",
       "      <td>400</td>\n",
       "      <td>406</td>\n",
       "    </tr>\n",
       "  </tbody>\n",
       "</table>\n",
       "</div>"
      ],
      "text/plain": [
       "   Money (Time 1)  Money (Time 2)\n",
       "0             573             413\n",
       "1             445             632\n",
       "2             493             612\n",
       "3             814             322\n",
       "4             400             406"
      ]
     },
     "execution_count": 6,
     "metadata": {},
     "output_type": "execute_result"
    }
   ],
   "source": [
    "# Package imports for data science\n",
    "import numpy as np\n",
    "import pandas as pd\n",
    "import scipy.stats as stats\n",
    "import matplotlib.pyplot as plt\n",
    "import seaborn as sns\n",
    "from statsmodels.graphics.mosaicplot import mosaic\n",
    "\n",
    "df = pd.read_csv('C:/DSAI_2021-22/Voorbereiding_Examen/ttest/money2.csv', delimiter=';')\n",
    "\n",
    "df.head()"
   ]
  },
  {
   "cell_type": "code",
   "execution_count": 3,
   "metadata": {},
   "outputs": [
    {
     "name": "stdout",
     "output_type": "stream",
     "text": [
      "De P-waarde is 0.9490724221786511\n",
      "p > a, dus H0 niet verwerpen\n"
     ]
    }
   ],
   "source": [
    "a = .05\n",
    "\n",
    "df['verschil'] = df['Money (Time 1)'] - df['Money (Time 2)']\n",
    "df['kwadratisch verschil'] = df['verschil']**2\n",
    "\n",
    "p = stats.ttest_rel(a=df['Money (Time 1)'], b=df['Money (Time 2)'],\n",
    "    alternative='less').pvalue\n",
    "\n",
    "print(f'De P-waarde is {p}')\n",
    "\n",
    "if(p < a):\n",
    "    print(\"p < a, dus H0 verwerpen\")\n",
    "else:\n",
    "    print(\"p > a, dus H0 niet verwerpen\")"
   ]
  },
  {
   "cell_type": "code",
   "execution_count": 4,
   "metadata": {},
   "outputs": [
    {
     "data": {
      "text/html": [
       "<div>\n",
       "<style scoped>\n",
       "    .dataframe tbody tr th:only-of-type {\n",
       "        vertical-align: middle;\n",
       "    }\n",
       "\n",
       "    .dataframe tbody tr th {\n",
       "        vertical-align: top;\n",
       "    }\n",
       "\n",
       "    .dataframe thead th {\n",
       "        text-align: right;\n",
       "    }\n",
       "</style>\n",
       "<table border=\"1\" class=\"dataframe\">\n",
       "  <thead>\n",
       "    <tr style=\"text-align: right;\">\n",
       "      <th></th>\n",
       "      <th>Money (Time 1)</th>\n",
       "      <th>Money (Time 2)</th>\n",
       "      <th>verschil</th>\n",
       "      <th>kwadratisch verschil</th>\n",
       "    </tr>\n",
       "  </thead>\n",
       "  <tbody>\n",
       "    <tr>\n",
       "      <th>0</th>\n",
       "      <td>573</td>\n",
       "      <td>413</td>\n",
       "      <td>160</td>\n",
       "      <td>25600</td>\n",
       "    </tr>\n",
       "    <tr>\n",
       "      <th>1</th>\n",
       "      <td>445</td>\n",
       "      <td>632</td>\n",
       "      <td>-187</td>\n",
       "      <td>34969</td>\n",
       "    </tr>\n",
       "    <tr>\n",
       "      <th>2</th>\n",
       "      <td>493</td>\n",
       "      <td>612</td>\n",
       "      <td>-119</td>\n",
       "      <td>14161</td>\n",
       "    </tr>\n",
       "    <tr>\n",
       "      <th>3</th>\n",
       "      <td>814</td>\n",
       "      <td>322</td>\n",
       "      <td>492</td>\n",
       "      <td>242064</td>\n",
       "    </tr>\n",
       "    <tr>\n",
       "      <th>4</th>\n",
       "      <td>400</td>\n",
       "      <td>406</td>\n",
       "      <td>-6</td>\n",
       "      <td>36</td>\n",
       "    </tr>\n",
       "  </tbody>\n",
       "</table>\n",
       "</div>"
      ],
      "text/plain": [
       "   Money (Time 1)  Money (Time 2)  verschil  kwadratisch verschil\n",
       "0             573             413       160                 25600\n",
       "1             445             632      -187                 34969\n",
       "2             493             612      -119                 14161\n",
       "3             814             322       492                242064\n",
       "4             400             406        -6                    36"
      ]
     },
     "execution_count": 4,
     "metadata": {},
     "output_type": "execute_result"
    }
   ],
   "source": [
    "df.head()"
   ]
  },
  {
   "cell_type": "code",
   "execution_count": 5,
   "metadata": {},
   "outputs": [
    {
     "name": "stdout",
     "output_type": "stream",
     "text": [
      "z-score: 2.00958\n",
      "Confidence interval: [-7.3396, 78.8196]\n"
     ]
    }
   ],
   "source": [
    "a = .05\n",
    "m = df.verschil.mean()\n",
    "s = df.verschil.std()\n",
    "n = df.verschil.shape[0]\n",
    "\n",
    "# rechtergebied ==> helft van de alfa\n",
    "z = stats.t.isf(a/2, df=n-1)\n",
    "print(\"z-score: %.5f\" % z)\n",
    "\n",
    "# ondergrens en bovengrens berekenen\n",
    "lo = m - z * s / np.sqrt(n)\n",
    "hi = m + z * s / np.sqrt(n)\n",
    "print(\"Confidence interval: [%.4f, %.4f]\" % (lo, hi))"
   ]
  }
 ],
 "metadata": {
  "interpreter": {
   "hash": "461b8cd1ed42f26c365b05a87642eedf7a94d4e578d07d12c4b9e9e926e3307d"
  },
  "kernelspec": {
   "display_name": "Python 3.9.13 64-bit (windows store)",
   "language": "python",
   "name": "python3"
  },
  "language_info": {
   "codemirror_mode": {
    "name": "ipython",
    "version": 3
   },
   "file_extension": ".py",
   "mimetype": "text/x-python",
   "name": "python",
   "nbconvert_exporter": "python",
   "pygments_lexer": "ipython3",
   "version": "3.9.13"
  },
  "orig_nbformat": 4
 },
 "nbformat": 4,
 "nbformat_minor": 2
}
