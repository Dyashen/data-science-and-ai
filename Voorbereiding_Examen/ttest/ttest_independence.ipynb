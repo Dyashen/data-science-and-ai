{
 "cells": [
  {
   "cell_type": "code",
   "execution_count": 2,
   "metadata": {},
   "outputs": [
    {
     "data": {
      "text/html": [
       "<div>\n",
       "<style scoped>\n",
       "    .dataframe tbody tr th:only-of-type {\n",
       "        vertical-align: middle;\n",
       "    }\n",
       "\n",
       "    .dataframe tbody tr th {\n",
       "        vertical-align: top;\n",
       "    }\n",
       "\n",
       "    .dataframe thead th {\n",
       "        text-align: right;\n",
       "    }\n",
       "</style>\n",
       "<table border=\"1\" class=\"dataframe\">\n",
       "  <thead>\n",
       "    <tr style=\"text-align: right;\">\n",
       "      <th></th>\n",
       "      <th>Money (Time 1)</th>\n",
       "      <th>Money (Time 2)</th>\n",
       "    </tr>\n",
       "  </thead>\n",
       "  <tbody>\n",
       "    <tr>\n",
       "      <th>0</th>\n",
       "      <td>5195</td>\n",
       "      <td>4359</td>\n",
       "    </tr>\n",
       "    <tr>\n",
       "      <th>1</th>\n",
       "      <td>5605</td>\n",
       "      <td>6245</td>\n",
       "    </tr>\n",
       "    <tr>\n",
       "      <th>2</th>\n",
       "      <td>4480</td>\n",
       "      <td>5511</td>\n",
       "    </tr>\n",
       "    <tr>\n",
       "      <th>3</th>\n",
       "      <td>5624</td>\n",
       "      <td>5666</td>\n",
       "    </tr>\n",
       "    <tr>\n",
       "      <th>4</th>\n",
       "      <td>4910</td>\n",
       "      <td>3989</td>\n",
       "    </tr>\n",
       "  </tbody>\n",
       "</table>\n",
       "</div>"
      ],
      "text/plain": [
       "   Money (Time 1)  Money (Time 2)\n",
       "0            5195            4359\n",
       "1            5605            6245\n",
       "2            4480            5511\n",
       "3            5624            5666\n",
       "4            4910            3989"
      ]
     },
     "execution_count": 2,
     "metadata": {},
     "output_type": "execute_result"
    }
   ],
   "source": [
    "# Package imports for data science\n",
    "import numpy as np\n",
    "import pandas as pd\n",
    "import scipy.stats as stats\n",
    "import matplotlib.pyplot as plt\n",
    "import seaborn as sns\n",
    "from statsmodels.graphics.mosaicplot import mosaic\n",
    "\n",
    "df = pd.read_csv('C:/DSAI_2021-22/Voorbereiding_Examen/ttest/money.csv', delimiter=';')\n",
    "\n",
    "df.head()"
   ]
  },
  {
   "cell_type": "code",
   "execution_count": 3,
   "metadata": {},
   "outputs": [
    {
     "name": "stdout",
     "output_type": "stream",
     "text": [
      "De P-waarde is 0.1471689482002748\n"
     ]
    }
   ],
   "source": [
    "alpha = .05\n",
    "\n",
    "df['verschil'] = df['Money (Time 1)'] - df['Money (Time 2)']\n",
    "df['kwadratisch verschil'] = df['verschil']**2\n",
    "\n",
    "p = stats.ttest_ind(a=df['Money (Time 1)'], b=df['Money (Time 2)'],\n",
    "    alternative='less').pvalue\n",
    "\n",
    "print(f'De P-waarde is {p}')\n"
   ]
  },
  {
   "cell_type": "markdown",
   "metadata": {},
   "source": [
    "# Hypothese: \n",
    "\n",
    "Stijgt het geld in tijd?\n",
    "\n",
    "$H0$: $m1$ <= $m2$\n",
    "\n",
    "$H1$: $m1$ > $m2$"
   ]
  },
  {
   "cell_type": "code",
   "execution_count": 4,
   "metadata": {},
   "outputs": [
    {
     "name": "stdout",
     "output_type": "stream",
     "text": [
      "p > a, dus H0 niet verwerpen\n",
      "Het gemiddelde van Tijd 1 is 5015.475.\n",
      "De standaardafwijking van Tijd 1 is 1213.6928388399108.\n",
      "Er zijn 40 waarden in de dataset.\n",
      "5015.475\n"
     ]
    }
   ],
   "source": [
    "a = .05\n",
    "\n",
    "m = df['Money (Time 1)'].mean()\n",
    "s = df['Money (Time 1)'].std()\n",
    "n = df['Money (Time 1)'].shape[0]\n",
    "m0 = df['Money (Time 2)'].mean()\n",
    "\n",
    "if(p < a):\n",
    "    print(\"p < a, dus H0 verwerpen\")\n",
    "else:\n",
    "    print(\"p > a, dus H0 niet verwerpen\")\n",
    "\n",
    "print(f'Het gemiddelde van Tijd 1 is {m}.')\n",
    "print(f'De standaardafwijking van Tijd 1 is {s}.')\n",
    "print(f'Er zijn {n} waarden in de dataset.')\n",
    "\n",
    "print(m)\n"
   ]
  },
  {
   "cell_type": "markdown",
   "metadata": {},
   "source": [
    "Conclusion: Retain the null. The difference is not statistically significant. The Money variable decreases or stays the same over time. If we assume this sample to represent the population, we would expect 95% of sample means to fall between -250.16 and 762.36."
   ]
  },
  {
   "cell_type": "code",
   "execution_count": 5,
   "metadata": {},
   "outputs": [
    {
     "name": "stdout",
     "output_type": "stream",
     "text": [
      "z-score: 2.02269\n",
      "Confidence interval: [4627.3172, 5403.6328]\n"
     ]
    }
   ],
   "source": [
    "# rechtergebied ==> helft van de alfa\n",
    "z = stats.t.isf(a/2, df=n-1)\n",
    "print(\"z-score: %.5f\" % z)\n",
    "\n",
    "# ondergrens en bovengrens berekenen\n",
    "lo = m - z * s / np.sqrt(n)\n",
    "hi = m + z * s / np.sqrt(n)\n",
    "print(\"Confidence interval: [%.4f, %.4f]\" % (lo, hi))"
   ]
  }
 ],
 "metadata": {
  "interpreter": {
   "hash": "461b8cd1ed42f26c365b05a87642eedf7a94d4e578d07d12c4b9e9e926e3307d"
  },
  "kernelspec": {
   "display_name": "Python 3.9.13 64-bit (windows store)",
   "language": "python",
   "name": "python3"
  },
  "language_info": {
   "codemirror_mode": {
    "name": "ipython",
    "version": 3
   },
   "file_extension": ".py",
   "mimetype": "text/x-python",
   "name": "python",
   "nbconvert_exporter": "python",
   "pygments_lexer": "ipython3",
   "version": "3.9.13"
  },
  "orig_nbformat": 4
 },
 "nbformat": 4,
 "nbformat_minor": 2
}
