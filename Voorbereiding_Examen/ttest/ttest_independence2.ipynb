{
 "cells": [
  {
   "cell_type": "code",
   "execution_count": 7,
   "metadata": {},
   "outputs": [
    {
     "data": {
      "text/html": [
       "<div>\n",
       "<style scoped>\n",
       "    .dataframe tbody tr th:only-of-type {\n",
       "        vertical-align: middle;\n",
       "    }\n",
       "\n",
       "    .dataframe tbody tr th {\n",
       "        vertical-align: top;\n",
       "    }\n",
       "\n",
       "    .dataframe thead th {\n",
       "        text-align: right;\n",
       "    }\n",
       "</style>\n",
       "<table border=\"1\" class=\"dataframe\">\n",
       "  <thead>\n",
       "    <tr style=\"text-align: right;\">\n",
       "      <th></th>\n",
       "      <th>Less than 6 Months</th>\n",
       "      <th>Longer than 6 Months</th>\n",
       "    </tr>\n",
       "  </thead>\n",
       "  <tbody>\n",
       "    <tr>\n",
       "      <th>0</th>\n",
       "      <td>20</td>\n",
       "      <td>20</td>\n",
       "    </tr>\n",
       "    <tr>\n",
       "      <th>1</th>\n",
       "      <td>19</td>\n",
       "      <td>21</td>\n",
       "    </tr>\n",
       "    <tr>\n",
       "      <th>2</th>\n",
       "      <td>16</td>\n",
       "      <td>25</td>\n",
       "    </tr>\n",
       "    <tr>\n",
       "      <th>3</th>\n",
       "      <td>33</td>\n",
       "      <td>20</td>\n",
       "    </tr>\n",
       "    <tr>\n",
       "      <th>4</th>\n",
       "      <td>33</td>\n",
       "      <td>24</td>\n",
       "    </tr>\n",
       "  </tbody>\n",
       "</table>\n",
       "</div>"
      ],
      "text/plain": [
       "   Less than 6 Months  Longer than 6 Months\n",
       "0                  20                    20\n",
       "1                  19                    21\n",
       "2                  16                    25\n",
       "3                  33                    20\n",
       "4                  33                    24"
      ]
     },
     "execution_count": 7,
     "metadata": {},
     "output_type": "execute_result"
    }
   ],
   "source": [
    "# Package imports for data science\n",
    "import numpy as np\n",
    "import pandas as pd\n",
    "import scipy.stats as stats\n",
    "import matplotlib.pyplot as plt\n",
    "import seaborn as sns\n",
    "from statsmodels.graphics.mosaicplot import mosaic\n",
    "\n",
    "df = pd.read_csv('C:/DSAI_2021-22/Voorbereiding_Examen/ttest/days2.csv', delimiter=';')\n",
    "\n",
    "df.head()"
   ]
  },
  {
   "cell_type": "code",
   "execution_count": 12,
   "metadata": {},
   "outputs": [
    {
     "name": "stdout",
     "output_type": "stream",
     "text": [
      "De P-waarde is 0.010243825377730453\n"
     ]
    }
   ],
   "source": [
    "alpha = .05\n",
    "\n",
    "p = stats.ttest_ind(a=df['Less than 6 Months'], b=df['Longer than 6 Months'],\n",
    "    alternative='greater', equal_var=False).pvalue\n",
    "\n",
    "print(f'De P-waarde is {p}')\n"
   ]
  },
  {
   "cell_type": "markdown",
   "metadata": {},
   "source": [
    "# Hypothese: \n",
    "\n",
    "H0: μLonger than 6 Months - μLess than 6 Months = 0\n",
    "\n",
    "H1: μLonger than 6 Months - μLess than 6 Months ≠ 0"
   ]
  },
  {
   "cell_type": "code",
   "execution_count": 15,
   "metadata": {},
   "outputs": [
    {
     "name": "stdout",
     "output_type": "stream",
     "text": [
      "p < a, dus H0 verwerpen\n",
      "Het gemiddelde van ... is 26.65.\n",
      "De standaardafwijking van ... is 5.289321608384489.\n",
      "Er zijn 40 waarden in de dataset.\n"
     ]
    }
   ],
   "source": [
    "a = .05\n",
    "\n",
    "m = df['Less than 6 Months'].mean()\n",
    "s = df['Less than 6 Months'].std()\n",
    "n = df['Less than 6 Months'].shape[0]\n",
    "m0 = df['Longer than 6 Months'].mean()\n",
    "\n",
    "if(p < a):\n",
    "    print(\"p < a, dus H0 verwerpen\")\n",
    "else:\n",
    "    print(\"p > a, dus H0 niet verwerpen\")\n",
    "\n",
    "print(f'Het gemiddelde van ... is {m}.')\n",
    "print(f'De standaardafwijking van ... is {s}.')\n",
    "print(f'Er zijn {n} waarden in de dataset.')"
   ]
  },
  {
   "cell_type": "markdown",
   "metadata": {},
   "source": [
    "Conclusion: Reject the null and accept the alternative. The difference is statistically significant. Employees hired more than 6 months ago have lower mean Days than employees hired less than 6 months ago. On average, the Days variable was 2.52 lower for employees hired more than 6 months ago. The difference in Days due to Tenure was medium."
   ]
  },
  {
   "cell_type": "code",
   "execution_count": 17,
   "metadata": {},
   "outputs": [
    {
     "name": "stdout",
     "output_type": "stream",
     "text": [
      "z-score: 2.02269\n",
      "Confidence interval: [24.9584, 28.3416]\n"
     ]
    }
   ],
   "source": [
    "# rechtergebied ==> helft van de alfa\n",
    "z = stats.t.isf(a/2, df=n-1)\n",
    "print(\"z-score: %.5f\" % z)\n",
    "\n",
    "# ondergrens en bovengrens berekenen\n",
    "lo = m - z * s / np.sqrt(n)\n",
    "hi = m + z * s / np.sqrt(n)\n",
    "print(\"Confidence interval: [%.4f, %.4f]\" % (lo, hi))"
   ]
  },
  {
   "cell_type": "markdown",
   "metadata": {},
   "source": [
    "A paired t-test is designed to compare the means of the same group or item under two separate scenarios. An unpaired t-test compares the means of two independent or unrelated groups.\n",
    "\n",
    "In an unpaired t-test, the variance between groups is assumed to be equal. In a paired t-test, the variance is not assumed to be equal."
   ]
  }
 ],
 "metadata": {
  "interpreter": {
   "hash": "461b8cd1ed42f26c365b05a87642eedf7a94d4e578d07d12c4b9e9e926e3307d"
  },
  "kernelspec": {
   "display_name": "Python 3.9.13 64-bit (windows store)",
   "language": "python",
   "name": "python3"
  },
  "language_info": {
   "codemirror_mode": {
    "name": "ipython",
    "version": 3
   },
   "file_extension": ".py",
   "mimetype": "text/x-python",
   "name": "python",
   "nbconvert_exporter": "python",
   "pygments_lexer": "ipython3",
   "version": "3.9.13"
  },
  "orig_nbformat": 4
 },
 "nbformat": 4,
 "nbformat_minor": 2
}
